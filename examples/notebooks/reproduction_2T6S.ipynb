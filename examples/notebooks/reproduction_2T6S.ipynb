{
 "cells": [
  {
   "cell_type": "markdown",
   "id": "rental-uniform",
   "metadata": {},
   "source": [
    "# FMRI DATA ANALYSIS - NARPS DATASET BY TEAM 2T6S"
   ]
  },
  {
   "cell_type": "markdown",
   "id": "digital-murray",
   "metadata": {},
   "source": [
    "This notebook reproduce the analysis made by team **2T6S** for the NARPS experiment (Botvinik-Nezer & al, 2020). \n",
    "\n",
    "**To use this notebook :** \n",
    "- Download fMRIprep data available [**here**](https://openneuro.org/datasets/ds001734/versions/1.0.4) or in [**datalad**](http://datasets.datalad.org/?dir=/workshops/nih-2017/ds001734).\n",
    "- Modify the paths:\n",
    "    - **exp_dir**: directory where the ds001734-download repository is stored\n",
    "    - **result_dir**: directory where the intermediate and final repositories will be stored\n",
    "    - **working_dir**: name of the directory where intermediate results will be stored\n",
    "    - **output_dir**: name of the directory where final results will be stored\n",
    "\n",
    "Botvinik-Nezer, R., Holzmeister, F., Camerer, C.F., Dreber, A., Huber, J., Johannesson, M., Kirchler, M., Iwanir, R., Mumford, J.A., ..., Nichols, T.E., Poldrack, R.A., Schonberg, T. (2020). Variability in the analysis of a single neuroimaging dataset by many teams. Nature. https://doi.org/10.1038/s41586-020-2314-9."
   ]
  },
  {
   "cell_type": "code",
   "execution_count": null,
   "id": "satellite-launch",
   "metadata": {},
   "outputs": [],
   "source": [
    "# Set the path to matlab \n",
    "## NECESSARY TO USE SPM\n",
    "from nipype.interfaces import spm\n",
    "matlab_cmd = '/opt/spm12-r7771/run_spm12.sh /opt/matlabmcr-2010a/v713/ script'\n",
    "spm.SPMCommand.set_mlab_paths(matlab_cmd=matlab_cmd, use_mcr=True)"
   ]
  },
  {
   "cell_type": "code",
   "execution_count": 1,
   "id": "digital-intention",
   "metadata": {},
   "outputs": [],
   "source": [
    "from narps_open.pipelines import team_2T6S\n",
    "\n",
    "from os.path import join as opj\n",
    "import os\n",
    "import json"
   ]
  },
  {
   "cell_type": "code",
   "execution_count": 5,
   "id": "occasional-rotation",
   "metadata": {},
   "outputs": [],
   "source": [
    "team_ID = \"2T6S\"\n",
    "# Important directories\n",
    "## exp_dir : where the data are stored (where the ds001734 directory is stored)\n",
    "exp_dir = '../data/original'\n",
    "\n",
    "## result_dir : where the intermediate and final results will be store\n",
    "result_dir = \"../data/derived/reproduced\"\n",
    "\n",
    "## working_dir : where the intermediate outputs will be store\n",
    "working_dir = f\"NARPS-{team_ID}-reproduced/intermediate_results\"\n",
    "\n",
    "## output_dir : where the final results will be store\n",
    "output_dir = f\"NARPS-{team_ID}-reproduced\""
   ]
  },
  {
   "cell_type": "code",
   "execution_count": 6,
   "id": "systematic-worry",
   "metadata": {},
   "outputs": [],
   "source": [
    "dir_list = os.listdir(exp_dir)"
   ]
  },
  {
   "cell_type": "code",
   "execution_count": 7,
   "id": "separate-trade",
   "metadata": {},
   "outputs": [],
   "source": [
    "# Subject list (to which we will do the analysis)\n",
    "subject_list = []\n",
    "for dirs in dir_list:\n",
    "    if dirs[0:3] == 'sub':\n",
    "        subject_list.append(dirs[-3:])"
   ]
  },
  {
   "cell_type": "code",
   "execution_count": 8,
   "id": "convenient-virus",
   "metadata": {},
   "outputs": [],
   "source": [
    "subject_list=['001']\n",
    "n_sub = len(subject_list)\n",
    "# Run to use for this analysis\n",
    "run_list = ['01', '02', '03', '04']\n",
    "\n",
    "#TR\n",
    "with open(opj(exp_dir, 'task-MGT_bold.json'), 'rt') as fp:\n",
    "    task_info = json.load(fp)\n",
    "TR = task_info['RepetitionTime']\n",
    "\n",
    "#FWHM to smooth (team chose a kernel of 8mm for smoothing)\n",
    "fwhm = 8"
   ]
  },
  {
   "cell_type": "markdown",
   "id": "adapted-coral",
   "metadata": {},
   "source": [
    "## Subject level analysis"
   ]
  },
  {
   "cell_type": "code",
   "execution_count": null,
   "id": "continental-waterproof",
   "metadata": {},
   "outputs": [],
   "source": [
    "l1_analysis = team_2T6S.get_l1_analysis(subject_list, TR, fwhm, run_list, exp_dir, \n",
    "                                             result_dir, working_dir, output_dir)"
   ]
  },
  {
   "cell_type": "code",
   "execution_count": null,
   "id": "pleasant-jacksonville",
   "metadata": {
    "scrolled": true
   },
   "outputs": [],
   "source": [
    "l1_analysis.run('MultiProc', plugin_args={'n_procs': 2})"
   ]
  },
  {
   "cell_type": "markdown",
   "id": "floppy-disposal",
   "metadata": {},
   "source": [
    "## Group level analysis"
   ]
  },
  {
   "cell_type": "code",
   "execution_count": null,
   "id": "intimate-upgrade",
   "metadata": {},
   "outputs": [],
   "source": [
    "contrast_list = ['01', '02', '03', '04']"
   ]
  },
  {
   "cell_type": "code",
   "execution_count": null,
   "id": "silent-twist",
   "metadata": {},
   "outputs": [],
   "source": [
    "l2_analysis_equal_indiff = team_2T6S.get_l2_analysis(subject_list, n_sub, contrast_list, \"equalIndifference\", \n",
    "                                                          exp_dir, result_dir, working_dir, output_dir)"
   ]
  },
  {
   "cell_type": "code",
   "execution_count": null,
   "id": "champion-chess",
   "metadata": {},
   "outputs": [],
   "source": [
    "l2_analysis_equal_indiff.run('MultiProc', plugin_args={'n_procs': 8})"
   ]
  },
  {
   "cell_type": "code",
   "execution_count": null,
   "id": "rolled-fairy",
   "metadata": {},
   "outputs": [],
   "source": [
    "l2_analysis_equal_range = team_2T6S.get_l2_analysis(subject_list, n_sub, contrast_list, \"equalRange\", \n",
    "                                                          exp_dir, result_dir, working_dir, output_dir)"
   ]
  },
  {
   "cell_type": "code",
   "execution_count": null,
   "id": "reduced-portugal",
   "metadata": {},
   "outputs": [],
   "source": [
    "l2_analysis_equal_range.run('MultiProc', plugin_args={'n_procs': 2})"
   ]
  },
  {
   "cell_type": "code",
   "execution_count": null,
   "id": "powered-agent",
   "metadata": {},
   "outputs": [],
   "source": [
    "l2_analysis_groupcomp = team_2T6S.get_l2_analysis(subject_list, n_sub, contrast_list, \"groupComp\", \n",
    "                                                          exp_dir, result_dir, working_dir, output_dir)"
   ]
  },
  {
   "cell_type": "code",
   "execution_count": null,
   "id": "abstract-charger",
   "metadata": {},
   "outputs": [],
   "source": [
    "l2_analysis_groupcomp.run('MultiProc', plugin_args={'n_procs': 8})"
   ]
  },
  {
   "cell_type": "code",
   "execution_count": null,
   "id": "convenient-idaho",
   "metadata": {},
   "outputs": [],
   "source": [
    "pipelines_2T6S.reorganize_results(result_dir, output_dir, n_sub, team_ID)"
   ]
  }
 ],
 "metadata": {
  "kernelspec": {
   "display_name": "Python 3 (ipykernel)",
   "language": "python",
   "name": "python3"
  },
  "language_info": {
   "codemirror_mode": {
    "name": "ipython",
    "version": 3
   },
   "file_extension": ".py",
   "mimetype": "text/x-python",
   "name": "python",
   "nbconvert_exporter": "python",
   "pygments_lexer": "ipython3",
   "version": "3.10.9"
  }
 },
 "nbformat": 4,
 "nbformat_minor": 5
}
