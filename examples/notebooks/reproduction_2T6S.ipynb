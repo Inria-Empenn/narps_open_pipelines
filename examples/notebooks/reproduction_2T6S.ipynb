{
 "cells": [
  {
   "cell_type": "markdown",
   "id": "rental-uniform",
   "metadata": {},
   "source": [
    "# FMRI DATA ANALYSIS - NARPS DATASET BY TEAM 2T6S"
   ]
  },
  {
   "cell_type": "markdown",
   "id": "digital-murray",
   "metadata": {},
   "source": [
    "This notebook reproduces the analysis made by team **2T6S** for the NARPS experiment (Botvinik-Nezer & al, 2020). \n",
    "\n",
    "**To use this notebook :** \n",
    "- Follow the [instructions](https://github.com/Inria-Empenn/narps_open_pipelines/blob/main/INSTALL.md) to get the input data (only derivatives are needed.\n",
    "- Modify the paths:\n",
    "    - `dataset_dir`: directory where the ds001734 repository is stored\n",
    "    - `result_dir`: directory where the intermediate and final results will be stored\n",
    "- Select the number of cores on which you want to run the analysis (`nb_cores`)"
   ]
  },
  {
   "cell_type": "code",
   "execution_count": 1,
   "id": "digital-intention",
   "metadata": {},
   "outputs": [],
   "source": [
    "from os.path import isfile\n",
    "from narps_open.pipelines.team_2T6S import PipelineTeam2T6S"
   ]
  },
  {
   "cell_type": "code",
   "execution_count": 2,
   "id": "occasional-rotation",
   "metadata": {},
   "outputs": [],
   "source": [
    "# Change these values if needed\n",
    "dataset_dir = '/work/data/original/ds001734/'\n",
    "results_dir = '/work/run/reproduced/'\n",
    "nb_cores = 2"
   ]
  },
  {
   "cell_type": "code",
   "execution_count": 3,
   "id": "separate-trade",
   "metadata": {},
   "outputs": [],
   "source": [
    "# Subject list (to which we will do the analysis)\n",
    "subject_list = ['020', '001', '070', '013']\n",
    "\n",
    "# Runs to use for this analysis\n",
    "run_list = ['01', '02', '03', '04']"
   ]
  },
  {
   "cell_type": "code",
   "execution_count": 4,
   "id": "83180b3e-bd2c-456b-93d9-90aa702378eb",
   "metadata": {},
   "outputs": [],
   "source": [
    "pipeline = PipelineTeam2T6S()\n",
    "pipeline.subject_list = subject_list\n",
    "pipeline.run_list = run_list\n",
    "pipeline.directories.dataset_dir = dataset_dir\n",
    "pipeline.directories.results_dir = results_dir\n",
    "pipeline.directories.set_output_dir_with_team_id('2T6S')\n",
    "pipeline.directories.set_working_dir_with_team_id('2T6S')"
   ]
  },
  {
   "cell_type": "markdown",
   "id": "adapted-coral",
   "metadata": {},
   "source": [
    "## Subject level analysis"
   ]
  },
  {
   "cell_type": "code",
   "execution_count": 5,
   "id": "continental-waterproof",
   "metadata": {},
   "outputs": [
    {
     "name": "stderr",
     "output_type": "stream",
     "text": [
      "stty: 'standard input': Inappropriate ioctl for device\n"
     ]
    }
   ],
   "source": [
    "subject_level_analysis = pipeline.get_subject_level_analysis()"
   ]
  },
  {
   "cell_type": "code",
   "execution_count": 6,
   "id": "pleasant-jacksonville",
   "metadata": {
    "scrolled": true
   },
   "outputs": [
    {
     "name": "stdout",
     "output_type": "stream",
     "text": [
      "240624-07:04:03,203 nipype.workflow INFO:\n",
      "\t Workflow l1_analysis settings: ['check', 'execution', 'logging', 'monitoring']\n",
      "240624-07:04:03,244 nipype.workflow INFO:\n",
      "\t Running in parallel.\n",
      "240624-07:04:03,303 nipype.workflow INFO:\n",
      "\t [MultiProc] Running 0 tasks, and 5 jobs ready. Free memory (GB): 13.77/13.77, Free processors: 2/2.\n",
      "240624-07:04:03,380 nipype.workflow INFO:\n",
      "\t [Job 0] Cached (l1_analysis.contrasts).\n",
      "240624-07:04:03,415 nipype.workflow INFO:\n",
      "\t [Node] Setting-up \"l1_analysis.selectfiles\" in \"/work/run/reproduced/NARPS-2T6S-reproduced/intermediate_results/l1_analysis/_subject_id_020/selectfiles\".\n",
      "240624-07:04:03,427 nipype.workflow INFO:\n",
      "\t [Node] Executing \"selectfiles\" <nipype.interfaces.io.SelectFiles>\n",
      "240624-07:04:03,703 nipype.workflow INFO:\n",
      "\t [Node] Finished \"selectfiles\", elapsed time 0.271548s.\n",
      "240624-07:04:05,306 nipype.workflow INFO:\n",
      "\t [Job 1] Completed (l1_analysis.selectfiles).\n",
      "240624-07:04:05,311 nipype.workflow INFO:\n",
      "\t [MultiProc] Running 0 tasks, and 6 jobs ready. Free memory (GB): 13.77/13.77, Free processors: 2/2.\n",
      "240624-07:04:05,412 nipype.workflow INFO:\n",
      "\t [Node] Setting-up \"l1_analysis.selectfiles\" in \"/work/run/reproduced/NARPS-2T6S-reproduced/intermediate_results/l1_analysis/_subject_id_001/selectfiles\".\n",
      "240624-07:04:05,415 nipype.workflow INFO:\n",
      "\t [Node] Setting-up \"l1_analysis.selectfiles\" in \"/work/run/reproduced/NARPS-2T6S-reproduced/intermediate_results/l1_analysis/_subject_id_070/selectfiles\".\n",
      "240624-07:04:05,420 nipype.workflow INFO:\n",
      "\t [Node] Executing \"selectfiles\" <nipype.interfaces.io.SelectFiles>\n",
      "240624-07:04:05,421 nipype.workflow INFO:\n",
      "\t [Node] Executing \"selectfiles\" <nipype.interfaces.io.SelectFiles>\n",
      "240624-07:04:05,628 nipype.workflow INFO:\n",
      "\t [Node] Finished \"selectfiles\", elapsed time 0.204118s.\n",
      "240624-07:04:05,653 nipype.workflow INFO:\n",
      "\t [Node] Finished \"selectfiles\", elapsed time 0.22915s.\n",
      "240624-07:04:07,306 nipype.workflow INFO:\n",
      "\t [Job 2] Completed (l1_analysis.selectfiles).\n",
      "240624-07:04:07,309 nipype.workflow INFO:\n",
      "\t [Job 3] Completed (l1_analysis.selectfiles).\n",
      "240624-07:04:07,311 nipype.workflow INFO:\n",
      "\t [MultiProc] Running 0 tasks, and 13 jobs ready. Free memory (GB): 13.77/13.77, Free processors: 2/2.\n",
      "240624-07:04:07,378 nipype.workflow INFO:\n",
      "\t [Node] Setting-up \"l1_analysis.parameters\" in \"/work/run/reproduced/NARPS-2T6S-reproduced/intermediate_results/l1_analysis/_subject_id_020/parameters\".\n",
      "240624-07:04:07,378 nipype.workflow INFO:\n",
      "\t [Node] Setting-up \"l1_analysis.selectfiles\" in \"/work/run/reproduced/NARPS-2T6S-reproduced/intermediate_results/l1_analysis/_subject_id_013/selectfiles\".\n",
      "240624-07:04:07,384 nipype.workflow INFO:\n",
      "\t [Node] Executing \"selectfiles\" <nipype.interfaces.io.SelectFiles>\n",
      "240624-07:04:07,386 nipype.workflow INFO:\n",
      "\t [Node] Executing \"parameters\" <nipype.interfaces.utility.wrappers.Function>\n",
      "240624-07:04:07,590 nipype.workflow INFO:\n",
      "\t [Node] Finished \"selectfiles\", elapsed time 0.202247s.\n",
      "240624-07:04:08,389 nipype.workflow INFO:\n",
      "\t [Node] Finished \"parameters\", elapsed time 1.000086s.\n",
      "240624-07:04:09,307 nipype.workflow INFO:\n",
      "\t [Job 4] Completed (l1_analysis.selectfiles).\n",
      "240624-07:04:09,310 nipype.workflow INFO:\n",
      "\t [Job 5] Completed (l1_analysis.parameters).\n",
      "240624-07:04:09,313 nipype.workflow INFO:\n",
      "\t [MultiProc] Running 0 tasks, and 20 jobs ready. Free memory (GB): 13.77/13.77, Free processors: 2/2.\n",
      "240624-07:04:09,379 nipype.workflow INFO:\n",
      "\t [Node] Setting-up \"l1_analysis.subject_infos\" in \"/work/run/reproduced/NARPS-2T6S-reproduced/intermediate_results/l1_analysis/_subject_id_020/subject_infos\".\n",
      "240624-07:04:09,379 nipype.workflow INFO:\n",
      "\t [Node] Setting-up \"l1_analysis.parameters\" in \"/work/run/reproduced/NARPS-2T6S-reproduced/intermediate_results/l1_analysis/_subject_id_001/parameters\".\n",
      "240624-07:04:09,386 nipype.workflow INFO:\n",
      "\t [Node] Executing \"subject_infos\" <nipype.interfaces.utility.wrappers.Function>\n",
      "240624-07:04:09,387 nipype.workflow INFO:\n",
      "\t [Node] Executing \"parameters\" <nipype.interfaces.utility.wrappers.Function>\n",
      "240624-07:04:09,650 nipype.workflow INFO:\n",
      "\t [Node] Finished \"subject_infos\", elapsed time 0.260735s.\n",
      "240624-07:04:09,870 nipype.workflow INFO:\n",
      "\t [Node] Finished \"parameters\", elapsed time 0.480165s.\n",
      "240624-07:04:11,309 nipype.workflow INFO:\n",
      "\t [Job 6] Completed (l1_analysis.subject_infos).\n",
      "240624-07:04:11,312 nipype.workflow INFO:\n",
      "\t [Job 8] Completed (l1_analysis.parameters).\n",
      "240624-07:04:11,316 nipype.workflow INFO:\n",
      "\t [MultiProc] Running 0 tasks, and 21 jobs ready. Free memory (GB): 13.77/13.77, Free processors: 2/2.\n",
      "240624-07:04:11,387 nipype.workflow INFO:\n",
      "\t [Node] Setting-up \"l1_analysis.subject_infos\" in \"/work/run/reproduced/NARPS-2T6S-reproduced/intermediate_results/l1_analysis/_subject_id_001/subject_infos\".\n",
      "240624-07:04:11,387 nipype.workflow INFO:\n",
      "\t [Node] Setting-up \"l1_analysis.parameters\" in \"/work/run/reproduced/NARPS-2T6S-reproduced/intermediate_results/l1_analysis/_subject_id_070/parameters\".\n",
      "240624-07:04:11,394 nipype.workflow INFO:\n",
      "\t [Node] Executing \"subject_infos\" <nipype.interfaces.utility.wrappers.Function>\n",
      "240624-07:04:11,394 nipype.workflow INFO:\n",
      "\t [Node] Executing \"parameters\" <nipype.interfaces.utility.wrappers.Function>\n",
      "240624-07:04:11,668 nipype.workflow INFO:\n",
      "\t [Node] Finished \"subject_infos\", elapsed time 0.271306s.\n",
      "240624-07:04:11,957 nipype.workflow INFO:\n",
      "\t [Node] Finished \"parameters\", elapsed time 0.55984s.\n",
      "240624-07:04:13,311 nipype.workflow INFO:\n",
      "\t [Job 9] Completed (l1_analysis.subject_infos).\n",
      "240624-07:04:13,313 nipype.workflow INFO:\n",
      "\t [Job 11] Completed (l1_analysis.parameters).\n",
      "240624-07:04:13,317 nipype.workflow INFO:\n",
      "\t [MultiProc] Running 0 tasks, and 19 jobs ready. Free memory (GB): 13.77/13.77, Free processors: 2/2.\n",
      "240624-07:04:13,374 nipype.workflow INFO:\n",
      "\t [Node] Setting-up \"l1_analysis.subject_infos\" in \"/work/run/reproduced/NARPS-2T6S-reproduced/intermediate_results/l1_analysis/_subject_id_070/subject_infos\".\n",
      "240624-07:04:13,374 nipype.workflow INFO:\n",
      "\t [Node] Setting-up \"l1_analysis.parameters\" in \"/work/run/reproduced/NARPS-2T6S-reproduced/intermediate_results/l1_analysis/_subject_id_013/parameters\".\n",
      "240624-07:04:13,379 nipype.workflow INFO:\n",
      "\t [Node] Executing \"subject_infos\" <nipype.interfaces.utility.wrappers.Function>\n",
      "240624-07:04:13,379 nipype.workflow INFO:\n",
      "\t [Node] Executing \"parameters\" <nipype.interfaces.utility.wrappers.Function>\n",
      "240624-07:04:13,694 nipype.workflow INFO:\n",
      "\t [Node] Finished \"subject_infos\", elapsed time 0.311791s.\n",
      "240624-07:04:13,872 nipype.workflow INFO:\n",
      "\t [Node] Finished \"parameters\", elapsed time 0.490478s.\n",
      "240624-07:04:15,313 nipype.workflow INFO:\n",
      "\t [Job 12] Completed (l1_analysis.subject_infos).\n",
      "240624-07:04:15,317 nipype.workflow INFO:\n",
      "\t [Job 14] Completed (l1_analysis.parameters).\n",
      "240624-07:04:15,321 nipype.workflow INFO:\n",
      "\t [MultiProc] Running 0 tasks, and 17 jobs ready. Free memory (GB): 13.77/13.77, Free processors: 2/2.\n",
      "240624-07:04:15,395 nipype.workflow INFO:\n",
      "\t [Node] Setting-up \"l1_analysis.subject_infos\" in \"/work/run/reproduced/NARPS-2T6S-reproduced/intermediate_results/l1_analysis/_subject_id_013/subject_infos\".\n",
      "240624-07:04:15,401 nipype.workflow INFO:\n",
      "\t [Node] Setting-up \"_gunzip_func0\" in \"/work/run/reproduced/NARPS-2T6S-reproduced/intermediate_results/l1_analysis/_subject_id_020/gunzip_func/mapflow/_gunzip_func0\".\n",
      "240624-07:04:15,404 nipype.workflow INFO:\n",
      "\t [Node] Executing \"subject_infos\" <nipype.interfaces.utility.wrappers.Function>\n",
      "240624-07:04:15,407 nipype.workflow INFO:\n",
      "\t [Node] Executing \"_gunzip_func0\" <nipype.algorithms.misc.Gunzip>\n",
      "240624-07:04:15,679 nipype.workflow INFO:\n",
      "\t [Node] Finished \"subject_infos\", elapsed time 0.271406s.\n",
      "240624-07:04:17,315 nipype.workflow INFO:\n",
      "\t [Job 15] Completed (l1_analysis.subject_infos).\n",
      "240624-07:04:17,319 nipype.workflow INFO:\n",
      "\t [MultiProc] Running 1 tasks, and 15 jobs ready. Free memory (GB): 13.57/13.77, Free processors: 1/2.\n",
      "                     Currently running:\n",
      "                       * _gunzip_func0\n",
      "240624-07:04:17,422 nipype.workflow INFO:\n",
      "\t [Node] Setting-up \"_gunzip_func1\" in \"/work/run/reproduced/NARPS-2T6S-reproduced/intermediate_results/l1_analysis/_subject_id_020/gunzip_func/mapflow/_gunzip_func1\".\n",
      "240624-07:04:17,430 nipype.workflow INFO:\n",
      "\t [Node] Executing \"_gunzip_func1\" <nipype.algorithms.misc.Gunzip>\n",
      "240624-07:04:19,318 nipype.workflow INFO:\n",
      "\t [MultiProc] Running 2 tasks, and 14 jobs ready. Free memory (GB): 13.37/13.77, Free processors: 0/2.\n",
      "                     Currently running:\n",
      "                       * _gunzip_func1\n",
      "                       * _gunzip_func0\n",
      "240624-07:04:33,207 nipype.workflow INFO:\n",
      "\t [Node] Finished \"_gunzip_func0\", elapsed time 17.792735s.\n",
      "240624-07:04:33,209 nipype.workflow WARNING:\n",
      "\t Storing result file without outputs\n",
      "240624-07:04:33,209 nipype.workflow INFO:\n",
      "\t [Node] Finished \"_gunzip_func1\", elapsed time 15.773215s.\n",
      "240624-07:04:33,211 nipype.workflow WARNING:\n",
      "\t Storing result file without outputs\n",
      "240624-07:04:33,212 nipype.workflow WARNING:\n",
      "\t [Node] Error on \"_gunzip_func0\" (/work/run/reproduced/NARPS-2T6S-reproduced/intermediate_results/l1_analysis/_subject_id_020/gunzip_func/mapflow/_gunzip_func0)\n",
      "240624-07:04:33,213 nipype.workflow WARNING:\n",
      "\t [Node] Error on \"_gunzip_func1\" (/work/run/reproduced/NARPS-2T6S-reproduced/intermediate_results/l1_analysis/_subject_id_020/gunzip_func/mapflow/_gunzip_func1)\n"
     ]
    },
    {
     "ename": "KeyboardInterrupt",
     "evalue": "",
     "output_type": "error",
     "traceback": [
      "\u001b[0;31m---------------------------------------------------------------------------\u001b[0m",
      "\u001b[0;31mKeyboardInterrupt\u001b[0m                         Traceback (most recent call last)",
      "Cell \u001b[0;32mIn[6], line 1\u001b[0m\n\u001b[0;32m----> 1\u001b[0m \u001b[43msubject_level_analysis\u001b[49m\u001b[38;5;241;43m.\u001b[39;49m\u001b[43mrun\u001b[49m\u001b[43m(\u001b[49m\u001b[38;5;124;43m'\u001b[39;49m\u001b[38;5;124;43mMultiProc\u001b[39;49m\u001b[38;5;124;43m'\u001b[39;49m\u001b[43m,\u001b[49m\u001b[43m \u001b[49m\u001b[43mplugin_args\u001b[49m\u001b[43m \u001b[49m\u001b[38;5;241;43m=\u001b[39;49m\u001b[43m \u001b[49m\u001b[43m{\u001b[49m\u001b[38;5;124;43m'\u001b[39;49m\u001b[38;5;124;43mn_procs\u001b[39;49m\u001b[38;5;124;43m'\u001b[39;49m\u001b[43m:\u001b[49m\u001b[43m \u001b[49m\u001b[43mnb_cores\u001b[49m\u001b[43m}\u001b[49m\u001b[43m)\u001b[49m\n",
      "File \u001b[0;32m/opt/miniconda-latest/envs/neuro/lib/python3.8/site-packages/nipype/pipeline/engine/workflows.py:638\u001b[0m, in \u001b[0;36mWorkflow.run\u001b[0;34m(self, plugin, plugin_args, updatehash)\u001b[0m\n\u001b[1;32m    636\u001b[0m \u001b[38;5;28;01mif\u001b[39;00m str2bool(\u001b[38;5;28mself\u001b[39m\u001b[38;5;241m.\u001b[39mconfig[\u001b[38;5;124m\"\u001b[39m\u001b[38;5;124mexecution\u001b[39m\u001b[38;5;124m\"\u001b[39m][\u001b[38;5;124m\"\u001b[39m\u001b[38;5;124mcreate_report\u001b[39m\u001b[38;5;124m\"\u001b[39m]):\n\u001b[1;32m    637\u001b[0m     \u001b[38;5;28mself\u001b[39m\u001b[38;5;241m.\u001b[39m_write_report_info(\u001b[38;5;28mself\u001b[39m\u001b[38;5;241m.\u001b[39mbase_dir, \u001b[38;5;28mself\u001b[39m\u001b[38;5;241m.\u001b[39mname, execgraph)\n\u001b[0;32m--> 638\u001b[0m \u001b[43mrunner\u001b[49m\u001b[38;5;241;43m.\u001b[39;49m\u001b[43mrun\u001b[49m\u001b[43m(\u001b[49m\u001b[43mexecgraph\u001b[49m\u001b[43m,\u001b[49m\u001b[43m \u001b[49m\u001b[43mupdatehash\u001b[49m\u001b[38;5;241;43m=\u001b[39;49m\u001b[43mupdatehash\u001b[49m\u001b[43m,\u001b[49m\u001b[43m \u001b[49m\u001b[43mconfig\u001b[49m\u001b[38;5;241;43m=\u001b[39;49m\u001b[38;5;28;43mself\u001b[39;49m\u001b[38;5;241;43m.\u001b[39;49m\u001b[43mconfig\u001b[49m\u001b[43m)\u001b[49m\n\u001b[1;32m    639\u001b[0m datestr \u001b[38;5;241m=\u001b[39m datetime\u001b[38;5;241m.\u001b[39mutcnow()\u001b[38;5;241m.\u001b[39mstrftime(\u001b[38;5;124m\"\u001b[39m\u001b[38;5;124m%\u001b[39m\u001b[38;5;124mY\u001b[39m\u001b[38;5;124m%\u001b[39m\u001b[38;5;124mm\u001b[39m\u001b[38;5;132;01m%d\u001b[39;00m\u001b[38;5;124mT\u001b[39m\u001b[38;5;124m%\u001b[39m\u001b[38;5;124mH\u001b[39m\u001b[38;5;124m%\u001b[39m\u001b[38;5;124mM\u001b[39m\u001b[38;5;124m%\u001b[39m\u001b[38;5;124mS\u001b[39m\u001b[38;5;124m\"\u001b[39m)\n\u001b[1;32m    640\u001b[0m \u001b[38;5;28;01mif\u001b[39;00m str2bool(\u001b[38;5;28mself\u001b[39m\u001b[38;5;241m.\u001b[39mconfig[\u001b[38;5;124m\"\u001b[39m\u001b[38;5;124mexecution\u001b[39m\u001b[38;5;124m\"\u001b[39m][\u001b[38;5;124m\"\u001b[39m\u001b[38;5;124mwrite_provenance\u001b[39m\u001b[38;5;124m\"\u001b[39m]):\n",
      "File \u001b[0;32m/opt/miniconda-latest/envs/neuro/lib/python3.8/site-packages/nipype/pipeline/plugins/base.py:204\u001b[0m, in \u001b[0;36mDistributedPluginBase.run\u001b[0;34m(self, graph, config, updatehash)\u001b[0m\n\u001b[1;32m    201\u001b[0m         logger\u001b[38;5;241m.\u001b[39mdebug(\u001b[38;5;124m\"\u001b[39m\u001b[38;5;124mNot submitting (max jobs reached)\u001b[39m\u001b[38;5;124m\"\u001b[39m)\n\u001b[1;32m    203\u001b[0m     sleep_til \u001b[38;5;241m=\u001b[39m loop_start \u001b[38;5;241m+\u001b[39m poll_sleep_secs\n\u001b[0;32m--> 204\u001b[0m     \u001b[43msleep\u001b[49m\u001b[43m(\u001b[49m\u001b[38;5;28;43mmax\u001b[39;49m\u001b[43m(\u001b[49m\u001b[38;5;241;43m0\u001b[39;49m\u001b[43m,\u001b[49m\u001b[43m \u001b[49m\u001b[43msleep_til\u001b[49m\u001b[43m \u001b[49m\u001b[38;5;241;43m-\u001b[39;49m\u001b[43m \u001b[49m\u001b[43mtime\u001b[49m\u001b[43m(\u001b[49m\u001b[43m)\u001b[49m\u001b[43m)\u001b[49m\u001b[43m)\u001b[49m\n\u001b[1;32m    206\u001b[0m \u001b[38;5;28mself\u001b[39m\u001b[38;5;241m.\u001b[39m_remove_node_dirs()\n\u001b[1;32m    207\u001b[0m report_nodes_not_run(notrun)\n",
      "\u001b[0;31mKeyboardInterrupt\u001b[0m: "
     ]
    }
   ],
   "source": [
    "subject_level_analysis.run('MultiProc', plugin_args = {'n_procs': nb_cores})"
   ]
  },
  {
   "cell_type": "markdown",
   "id": "floppy-disposal",
   "metadata": {},
   "source": [
    "## Group level analysis"
   ]
  },
  {
   "cell_type": "code",
   "execution_count": 7,
   "id": "silent-twist",
   "metadata": {},
   "outputs": [],
   "source": [
    "# Get workflows for the group level analyses in the equalIndifference (ei) equalRange (er) and group comparison (gc) cases\n",
    "group_level_analysis_ei, group_level_analysis_er, group_level_analysis_gc = pipeline.get_group_level_analysis()"
   ]
  },
  {
   "cell_type": "code",
   "execution_count": null,
   "id": "champion-chess",
   "metadata": {},
   "outputs": [
    {
     "name": "stdout",
     "output_type": "stream",
     "text": [
      "240624-07:04:52,395 nipype.workflow INFO:\n",
      "\t Workflow l2_analysis_equalRange_nsub_4 settings: ['check', 'execution', 'logging', 'monitoring']\n",
      "240624-07:04:52,425 nipype.workflow INFO:\n",
      "\t Running in parallel.\n",
      "240624-07:04:52,429 nipype.workflow INFO:\n",
      "\t [MultiProc] Running 0 tasks, and 3 jobs ready. Free memory (GB): 13.77/13.77, Free processors: 2/2.\n",
      "240624-07:04:52,531 nipype.workflow INFO:\n",
      "\t [Node] Setting-up \"l2_analysis_equalRange_nsub_4.selectfiles_groupanalysis\" in \"/work/run/reproduced/NARPS-2T6S-reproduced/intermediate_results/l2_analysis_equalRange_nsub_4/_contrast_id_0002/selectfiles_groupanalysis\".\n",
      "240624-07:04:52,530 nipype.workflow INFO:\n",
      "\t [Node] Setting-up \"l2_analysis_equalRange_nsub_4.selectfiles_groupanalysis\" in \"/work/run/reproduced/NARPS-2T6S-reproduced/intermediate_results/l2_analysis_equalRange_nsub_4/_contrast_id_0001/selectfiles_groupanalysis\".\n",
      "240624-07:04:52,540 nipype.workflow INFO:\n",
      "\t [Node] Executing \"selectfiles_groupanalysis\" <nipype.interfaces.io.SelectFiles>\n",
      "240624-07:04:52,541 nipype.workflow INFO:\n",
      "\t [Node] Executing \"selectfiles_groupanalysis\" <nipype.interfaces.io.SelectFiles>\n",
      "240624-07:04:52,548 nipype.workflow INFO:\n",
      "\t [Node] Finished \"selectfiles_groupanalysis\", elapsed time 0.001661s.\n",
      "240624-07:04:52,549 nipype.workflow INFO:\n",
      "\t [Node] Finished \"selectfiles_groupanalysis\", elapsed time 0.001738s.\n",
      "240624-07:04:52,551 nipype.workflow WARNING:\n",
      "\t Storing result file without outputs\n",
      "240624-07:04:52,552 nipype.workflow WARNING:\n",
      "\t Storing result file without outputs\n",
      "240624-07:04:52,554 nipype.workflow WARNING:\n",
      "\t [Node] Error on \"l2_analysis_equalRange_nsub_4.selectfiles_groupanalysis\" (/work/run/reproduced/NARPS-2T6S-reproduced/intermediate_results/l2_analysis_equalRange_nsub_4/_contrast_id_0002/selectfiles_groupanalysis)\n",
      "240624-07:04:52,555 nipype.workflow WARNING:\n",
      "\t [Node] Error on \"l2_analysis_equalRange_nsub_4.selectfiles_groupanalysis\" (/work/run/reproduced/NARPS-2T6S-reproduced/intermediate_results/l2_analysis_equalRange_nsub_4/_contrast_id_0001/selectfiles_groupanalysis)\n"
     ]
    }
   ],
   "source": [
    "group_level_analysis_ei.run('MultiProc', plugin_args = {'n_procs': nb_cores})"
   ]
  },
  {
   "cell_type": "code",
   "execution_count": null,
   "id": "rolled-fairy",
   "metadata": {},
   "outputs": [],
   "source": [
    "group_level_analysis_er.run('MultiProc', plugin_args = {'n_procs': nb_cores})"
   ]
  },
  {
   "cell_type": "code",
   "execution_count": null,
   "id": "reduced-portugal",
   "metadata": {},
   "outputs": [],
   "source": [
    "group_level_analysis_gc.run('MultiProc', plugin_args = {'n_procs': nb_cores})"
   ]
  },
  {
   "cell_type": "markdown",
   "id": "216140b0-f15e-4e18-80d4-8552d887c249",
   "metadata": {},
   "source": [
    "## Check results"
   ]
  },
  {
   "cell_type": "code",
   "execution_count": 10,
   "id": "05dc2724-6e68-4158-9103-535275297486",
   "metadata": {},
   "outputs": [
    {
     "name": "stdout",
     "output_type": "stream",
     "text": [
      "['/work/data/reproduced/NARPS-2T6S-reproduced/l2_analysis_equalIndifference_nsub_4/_contrast_id_0002/_threshold0/spmT_0001_thr.nii', '/work/data/reproduced/NARPS-2T6S-reproduced/l2_analysis_equalIndifference_nsub_4/_contrast_id_0002/spmT_0001.nii', '/work/data/reproduced/NARPS-2T6S-reproduced/l2_analysis_equalRange_nsub_4/_contrast_id_0002/_threshold0/spmT_0001_thr.nii', '/work/data/reproduced/NARPS-2T6S-reproduced/l2_analysis_equalRange_nsub_4/_contrast_id_0002/spmT_0001.nii', '/work/data/reproduced/NARPS-2T6S-reproduced/l2_analysis_equalIndifference_nsub_4/_contrast_id_0002/_threshold0/spmT_0001_thr.nii', '/work/data/reproduced/NARPS-2T6S-reproduced/l2_analysis_equalIndifference_nsub_4/_contrast_id_0002/spmT_0001.nii', '/work/data/reproduced/NARPS-2T6S-reproduced/l2_analysis_equalRange_nsub_4/_contrast_id_0002/_threshold0/spmT_0001_thr.nii', '/work/data/reproduced/NARPS-2T6S-reproduced/l2_analysis_equalRange_nsub_4/_contrast_id_0002/spmT_0001.nii', '/work/data/reproduced/NARPS-2T6S-reproduced/l2_analysis_equalIndifference_nsub_4/_contrast_id_0003/_threshold0/spmT_0001_thr.nii', '/work/data/reproduced/NARPS-2T6S-reproduced/l2_analysis_equalIndifference_nsub_4/_contrast_id_0003/spmT_0001.nii', '/work/data/reproduced/NARPS-2T6S-reproduced/l2_analysis_equalRange_nsub_4/_contrast_id_0003/_threshold1/spmT_0002_thr.nii', '/work/data/reproduced/NARPS-2T6S-reproduced/l2_analysis_equalRange_nsub_4/_contrast_id_0003/spmT_0002.nii', '/work/data/reproduced/NARPS-2T6S-reproduced/l2_analysis_equalIndifference_nsub_4/_contrast_id_0003/_threshold0/spmT_0001_thr.nii', '/work/data/reproduced/NARPS-2T6S-reproduced/l2_analysis_equalIndifference_nsub_4/_contrast_id_0003/spmT_0001.nii', '/work/data/reproduced/NARPS-2T6S-reproduced/l2_analysis_equalRange_nsub_4/_contrast_id_0003/_threshold1/spmT_0002_thr.nii', '/work/data/reproduced/NARPS-2T6S-reproduced/l2_analysis_equalRange_nsub_4/_contrast_id_0003/spmT_0002.nii', '/work/data/reproduced/NARPS-2T6S-reproduced/l2_analysis_groupComp_nsub_4/_contrast_id_0003/_threshold0/spmT_0001_thr.nii', '/work/data/reproduced/NARPS-2T6S-reproduced/l2_analysis_groupComp_nsub_4/_contrast_id_0003/spmT_0001.nii']\n"
     ]
    }
   ],
   "source": [
    "# Print the list of non existing hypotheses files\n",
    "hypothesis_files = pipeline.get_hypotheses_outputs()\n",
    "print([f for f in hypothesis_files if not isfile(f)])"
   ]
  },
  {
   "cell_type": "code",
   "execution_count": null,
   "id": "13cee529-aea0-408f-9992-2004f41c26b7",
   "metadata": {},
   "outputs": [],
   "source": []
  },
  {
   "cell_type": "code",
   "execution_count": null,
   "id": "56270182-17a6-41e9-95d8-5b1076933751",
   "metadata": {},
   "outputs": [],
   "source": []
  }
 ],
 "metadata": {
  "kernelspec": {
   "display_name": "Python 3 (ipykernel)",
   "language": "python",
   "name": "python3"
  },
  "language_info": {
   "codemirror_mode": {
    "name": "ipython",
    "version": 3
   },
   "file_extension": ".py",
   "mimetype": "text/x-python",
   "name": "python",
   "nbconvert_exporter": "python",
   "pygments_lexer": "ipython3",
   "version": "3.8.15"
  }
 },
 "nbformat": 4,
 "nbformat_minor": 5
}
