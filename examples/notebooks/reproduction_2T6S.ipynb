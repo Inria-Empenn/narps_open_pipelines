{
 "cells": [
  {
   "cell_type": "markdown",
   "id": "rental-uniform",
   "metadata": {},
   "source": [
    "# FMRI DATA ANALYSIS - NARPS DATASET BY TEAM 2T6S"
   ]
  },
  {
   "cell_type": "markdown",
   "id": "digital-murray",
   "metadata": {},
   "source": [
    "This notebook reproduces the analysis made by team **2T6S** for the NARPS experiment (Botvinik-Nezer & al, 2020). \n",
    "\n",
    "**To use this notebook :** \n",
    "- Follow the [instructions](https://github.com/Inria-Empenn/narps_open_pipelines/blob/main/INSTALL.md) to get the input data (only derivatives are needed.\n",
    "- Modify the paths:\n",
    "    - `dataset_dir`: directory where the ds001734 repository is stored\n",
    "    - `result_dir`: directory where the intermediate and final results will be stored\n",
    "- Select the number of cores on which you want to run the analysis (`nb_cores`)"
   ]
  },
  {
   "cell_type": "code",
   "execution_count": 6,
   "id": "digital-intention",
   "metadata": {},
   "outputs": [],
   "source": [
    "from os.path import isfile\n",
    "from narps_open.pipelines.team_2T6S import PipelineTeam2T6S"
   ]
  },
  {
   "cell_type": "code",
   "execution_count": 2,
   "id": "occasional-rotation",
   "metadata": {},
   "outputs": [],
   "source": [
    "# Change these values if needed\n",
    "dataset_dir = '/work/data/original'\n",
    "results_dir = '/work/data/reproduced'\n",
    "nb_cores = 2"
   ]
  },
  {
   "cell_type": "code",
   "execution_count": 3,
   "id": "separate-trade",
   "metadata": {},
   "outputs": [],
   "source": [
    "# Subject list (to which we will do the analysis)\n",
    "subject_list = ['020', '001', '070', '013']\n",
    "\n",
    "# Runs to use for this analysis\n",
    "run_list = ['01', '02', '03', '04']"
   ]
  },
  {
   "cell_type": "code",
   "execution_count": 8,
   "id": "83180b3e-bd2c-456b-93d9-90aa702378eb",
   "metadata": {},
   "outputs": [],
   "source": [
    "pipeline = PipelineTeam2T6S()\n",
    "pipeline.subject_list = subject_list\n",
    "pipeline.run_list = run_list\n",
    "pipeline.directories.dataset_dir = dataset_dir\n",
    "pipeline.directories.results_dir = results_dir\n",
    "pipeline.directories.set_output_dir_with_team_id('2T6S')\n",
    "pipeline.directories.set_working_dir_with_team_id('2T6S')"
   ]
  },
  {
   "cell_type": "markdown",
   "id": "adapted-coral",
   "metadata": {},
   "source": [
    "## Subject level analysis"
   ]
  },
  {
   "cell_type": "code",
   "execution_count": null,
   "id": "continental-waterproof",
   "metadata": {},
   "outputs": [],
   "source": [
    "subject_level_analysis = pipeline.get_subject_level_analysis()"
   ]
  },
  {
   "cell_type": "code",
   "execution_count": null,
   "id": "pleasant-jacksonville",
   "metadata": {
    "scrolled": true
   },
   "outputs": [],
   "source": [
    "subject_level_analysis.run('MultiProc', plugin_args = {'n_procs': nb_cores})"
   ]
  },
  {
   "cell_type": "markdown",
   "id": "floppy-disposal",
   "metadata": {},
   "source": [
    "## Group level analysis"
   ]
  },
  {
   "cell_type": "code",
   "execution_count": null,
   "id": "silent-twist",
   "metadata": {},
   "outputs": [],
   "source": [
    "# Get workflows for the group level analyses in the equalIndifference (ei) equalRange (er) and group comparison (gc) cases\n",
    "group_level_analysis_ei, group_level_analysis_er, group_level_analysis_gc = pipeline.get_group_level_analysis()"
   ]
  },
  {
   "cell_type": "code",
   "execution_count": null,
   "id": "champion-chess",
   "metadata": {},
   "outputs": [],
   "source": [
    "group_level_analysis_ei.run('MultiProc', plugin_args = {'n_procs': nb_cores})"
   ]
  },
  {
   "cell_type": "code",
   "execution_count": null,
   "id": "rolled-fairy",
   "metadata": {},
   "outputs": [],
   "source": [
    "group_level_analysis_er.run('MultiProc', plugin_args = {'n_procs': nb_cores})"
   ]
  },
  {
   "cell_type": "code",
   "execution_count": null,
   "id": "reduced-portugal",
   "metadata": {},
   "outputs": [],
   "source": [
    "group_level_analysis_gc.run('MultiProc', plugin_args = {'n_procs': nb_cores})"
   ]
  },
  {
   "cell_type": "markdown",
   "id": "216140b0-f15e-4e18-80d4-8552d887c249",
   "metadata": {},
   "source": [
    "## Check results"
   ]
  },
  {
   "cell_type": "code",
   "execution_count": 10,
   "id": "05dc2724-6e68-4158-9103-535275297486",
   "metadata": {},
   "outputs": [
    {
     "name": "stdout",
     "output_type": "stream",
     "text": [
      "['/work/data/reproduced/NARPS-2T6S-reproduced/l2_analysis_equalIndifference_nsub_4/_contrast_id_0002/_threshold0/spmT_0001_thr.nii', '/work/data/reproduced/NARPS-2T6S-reproduced/l2_analysis_equalIndifference_nsub_4/_contrast_id_0002/spmT_0001.nii', '/work/data/reproduced/NARPS-2T6S-reproduced/l2_analysis_equalRange_nsub_4/_contrast_id_0002/_threshold0/spmT_0001_thr.nii', '/work/data/reproduced/NARPS-2T6S-reproduced/l2_analysis_equalRange_nsub_4/_contrast_id_0002/spmT_0001.nii', '/work/data/reproduced/NARPS-2T6S-reproduced/l2_analysis_equalIndifference_nsub_4/_contrast_id_0002/_threshold0/spmT_0001_thr.nii', '/work/data/reproduced/NARPS-2T6S-reproduced/l2_analysis_equalIndifference_nsub_4/_contrast_id_0002/spmT_0001.nii', '/work/data/reproduced/NARPS-2T6S-reproduced/l2_analysis_equalRange_nsub_4/_contrast_id_0002/_threshold0/spmT_0001_thr.nii', '/work/data/reproduced/NARPS-2T6S-reproduced/l2_analysis_equalRange_nsub_4/_contrast_id_0002/spmT_0001.nii', '/work/data/reproduced/NARPS-2T6S-reproduced/l2_analysis_equalIndifference_nsub_4/_contrast_id_0003/_threshold0/spmT_0001_thr.nii', '/work/data/reproduced/NARPS-2T6S-reproduced/l2_analysis_equalIndifference_nsub_4/_contrast_id_0003/spmT_0001.nii', '/work/data/reproduced/NARPS-2T6S-reproduced/l2_analysis_equalRange_nsub_4/_contrast_id_0003/_threshold1/spmT_0002_thr.nii', '/work/data/reproduced/NARPS-2T6S-reproduced/l2_analysis_equalRange_nsub_4/_contrast_id_0003/spmT_0002.nii', '/work/data/reproduced/NARPS-2T6S-reproduced/l2_analysis_equalIndifference_nsub_4/_contrast_id_0003/_threshold0/spmT_0001_thr.nii', '/work/data/reproduced/NARPS-2T6S-reproduced/l2_analysis_equalIndifference_nsub_4/_contrast_id_0003/spmT_0001.nii', '/work/data/reproduced/NARPS-2T6S-reproduced/l2_analysis_equalRange_nsub_4/_contrast_id_0003/_threshold1/spmT_0002_thr.nii', '/work/data/reproduced/NARPS-2T6S-reproduced/l2_analysis_equalRange_nsub_4/_contrast_id_0003/spmT_0002.nii', '/work/data/reproduced/NARPS-2T6S-reproduced/l2_analysis_groupComp_nsub_4/_contrast_id_0003/_threshold0/spmT_0001_thr.nii', '/work/data/reproduced/NARPS-2T6S-reproduced/l2_analysis_groupComp_nsub_4/_contrast_id_0003/spmT_0001.nii']\n"
     ]
    }
   ],
   "source": [
    "# Print the list of non existing hypotheses files\n",
    "hypothesis_files = pipeline.get_hypotheses_outputs()\n",
    "print([f for f in hypothesis_files if not isfile(f)])"
   ]
  },
  {
   "cell_type": "code",
   "execution_count": null,
   "id": "13cee529-aea0-408f-9992-2004f41c26b7",
   "metadata": {},
   "outputs": [],
   "source": []
  },
  {
   "cell_type": "code",
   "execution_count": null,
   "id": "56270182-17a6-41e9-95d8-5b1076933751",
   "metadata": {},
   "outputs": [],
   "source": []
  }
 ],
 "metadata": {
  "kernelspec": {
   "display_name": "Python 3 (ipykernel)",
   "language": "python",
   "name": "python3"
  },
  "language_info": {
   "codemirror_mode": {
    "name": "ipython",
    "version": 3
   },
   "file_extension": ".py",
   "mimetype": "text/x-python",
   "name": "python",
   "nbconvert_exporter": "python",
   "pygments_lexer": "ipython3",
   "version": "3.8.15"
  }
 },
 "nbformat": 4,
 "nbformat_minor": 5
}
