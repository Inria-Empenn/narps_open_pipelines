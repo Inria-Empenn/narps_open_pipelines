{
 "cells": [
  {
   "cell_type": "markdown",
   "id": "b8fe781b",
   "metadata": {},
   "source": [
    "# FMRI DATA ANALYSIS - NARPS DATASET BY TEAM 98BT"
   ]
  },
  {
   "cell_type": "markdown",
   "id": "a1f67ffd",
   "metadata": {},
   "source": [
    "This notebook reproduce the analysis made by team **98BT** for the NARPS experiment (Botvinik-Nezer & al, 2020). \n",
    "\n",
    "**To use this notebook :** \n",
    "- Download fMRIprep data available [**here**](https://openneuro.org/datasets/ds001734/versions/1.0.4) or in [**datalad**](http://datasets.datalad.org/?dir=/workshops/nih-2017/ds001734).\n",
    "- Modify the paths:\n",
    "    - **exp_dir**: directory where the ds001734-download repository is stored\n",
    "    - **result_dir**: directory where the intermediate and final repositories will be stored\n",
    "    - **working_dir**: name of the directory where intermediate results will be stored\n",
    "    - **output_dir**: name of the directory where final results will be stored\n",
    "\n",
    "Botvinik-Nezer, R., Holzmeister, F., Camerer, C.F., Dreber, A., Huber, J., Johannesson, M., Kirchler, M., Iwanir, R., Mumford, J.A., ..., Nichols, T.E., Poldrack, R.A., Schonberg, T. (2020). Variability in the analysis of a single neuroimaging dataset by many teams. Nature. https://doi.org/10.1038/s41586-020-2314-9."
   ]
  },
  {
   "cell_type": "code",
   "execution_count": 1,
   "id": "0cfb0f0f",
   "metadata": {},
   "outputs": [],
   "source": [
    "# Set the path to matlab \n",
    "## NECESSARY TO USE SPM\n",
    "from nipype.interfaces import spm\n",
    "matlab_cmd = '/local/egermani/spm12/run_spm12.sh /usr/local/MATLAB/R2018a/bin/matlab script'\n",
    "spm.SPMCommand.set_mlab_paths(matlab_cmd=matlab_cmd)\n",
    "from narps_open.pipelines import team_98BT"
   ]
  },
  {
   "cell_type": "code",
   "execution_count": 5,
   "id": "5bca367e",
   "metadata": {},
   "outputs": [],
   "source": [
    "team_ID = \"98BT\"\n",
    "# Important directories\n",
    "## exp_dir : where the data are stored (where the ds001734 directory is stored)\n",
    "exp_dir = '../data/original'\n",
    "\n",
    "## result_dir : where the intermediate and final results will be store\n",
    "result_dir = \"../data/derived/reproduced\"\n",
    "\n",
    "## working_dir : where the intermediate outputs will be store\n",
    "working_dir = f\"NARPS-{team_ID}-reproduced/intermediate_results\"\n",
    "\n",
    "## output_dir : where the final results will be store\n",
    "output_dir = f\"NARPS-{team_ID}-reproduced\""
   ]
  },
  {
   "cell_type": "code",
   "execution_count": 6,
   "id": "13107fac",
   "metadata": {},
   "outputs": [],
   "source": [
    "dir_list = os.listdir(exp_dir)\n",
    "\n",
    "# Subject list (to which we will do the analysis)\n",
    "subject_list = []\n",
    "for dirs in dir_list:\n",
    "    if dirs[0:3] == 'sub':\n",
    "        subject_list.append(dirs[-3:])"
   ]
  },
  {
   "cell_type": "code",
   "execution_count": 7,
   "id": "90286484",
   "metadata": {},
   "outputs": [],
   "source": [
    "# Run to use for this analysis\n",
    "run_list = ['01', '02', '03', '04']\n",
    "\n",
    "#TR\n",
    "with open(opj(exp_dir, 'task-MGT_bold.json'), 'rt') as fp:\n",
    "    task_info = json.load(fp)\n",
    "TR = task_info['RepetitionTime']\n",
    "ST = task_info['SliceTiming']\n",
    "N = len(ST)\n",
    "TA = TR/N\n",
    "ET = task_info[\"EffectiveEchoSpacing\"]\n",
    "total_readout_time = N * ET\n",
    "\n",
    "#FWHM to smooth (team chose a kernel of 8mm for smoothing)\n",
    "fwhm = 8"
   ]
  },
  {
   "cell_type": "markdown",
   "id": "7a052ed4",
   "metadata": {},
   "source": [
    "## Dartel workflow"
   ]
  },
  {
   "cell_type": "code",
   "execution_count": null,
   "id": "ce19362d",
   "metadata": {},
   "outputs": [],
   "source": [
    "dartel_wf = team_98BT.get_dartel_template_wf(exp_dir, result_dir, working_dir, output_dir, subject_list)\n",
    "\n",
    "dartel_wf.run()"
   ]
  },
  {
   "cell_type": "markdown",
   "id": "728760e7",
   "metadata": {},
   "source": [
    "## Preprocessing "
   ]
  },
  {
   "cell_type": "code",
   "execution_count": null,
   "id": "5ac6a031",
   "metadata": {},
   "outputs": [],
   "source": [
    "preprocessing = team_98BT.get_preprocessing(exp_dir, result_dir, working_dir, output_dir,\n",
    "                                                 subject_list, run_list, fwhm, N, ST, TA, TR, total_readout_time)\n",
    "\n",
    "preprocessing.run()"
   ]
  },
  {
   "cell_type": "markdown",
   "id": "3b93974d",
   "metadata": {},
   "source": [
    "## Subject level analysis"
   ]
  },
  {
   "cell_type": "code",
   "execution_count": null,
   "id": "32763038",
   "metadata": {},
   "outputs": [],
   "source": [
    "l1_analysis = team_98BT.get_l1_analysis(subject_list, TR, run_list, exp_dir, result_dir, \n",
    "                                             working_dir, output_dir)\n",
    "\n",
    "l1_analysis.run()"
   ]
  },
  {
   "cell_type": "markdown",
   "id": "7ddb9214",
   "metadata": {},
   "source": [
    "## Group level analysis"
   ]
  },
  {
   "cell_type": "code",
   "execution_count": null,
   "id": "7a67eb15",
   "metadata": {},
   "outputs": [],
   "source": [
    "l2_analysis_equalRange = team_98BT.get_l2_analysis(subject_list, n_sub, contrast_list,\n",
    "                                                        'equalRange', exp_dir, result_dir, working_dir, output_dir)\n",
    "\n",
    "l2_analysis_equalIndiff = team_98BT.get_l2_analysis(subject_list, n_sub, contrast_list,\n",
    "                                                        'equalIndifference', exp_dir, result_dir, \n",
    "                                                         working_dir, output_dir)\n",
    "\n",
    "l2_analysis_groupComp = team_98BT.get_l2_analysis(subject_list, n_sub, contrast_list,\n",
    "                                                        'groupComp', exp_dir, result_dir, working_dir, output_dir)"
   ]
  },
  {
   "cell_type": "code",
   "execution_count": null,
   "id": "83fe3758",
   "metadata": {},
   "outputs": [],
   "source": [
    "l2_analysis_equalRange.run()"
   ]
  },
  {
   "cell_type": "code",
   "execution_count": null,
   "id": "28d1d0f6",
   "metadata": {},
   "outputs": [],
   "source": [
    "l2_analysis_equalIndiff.run()"
   ]
  },
  {
   "cell_type": "code",
   "execution_count": null,
   "id": "f8a8e932",
   "metadata": {},
   "outputs": [],
   "source": [
    "l2_analysis_groupComp.run()"
   ]
  },
  {
   "cell_type": "code",
   "execution_count": null,
   "id": "f9094825",
   "metadata": {},
   "outputs": [],
   "source": [
    "team_98BT.reorganize_results(result_dir, output_dir, n_sub, team_ID)"
   ]
  }
 ],
 "metadata": {
  "kernelspec": {
   "display_name": "Python 3 (ipykernel)",
   "language": "python",
   "name": "python3"
  },
  "language_info": {
   "codemirror_mode": {
    "name": "ipython",
    "version": 3
   },
   "file_extension": ".py",
   "mimetype": "text/x-python",
   "name": "python",
   "nbconvert_exporter": "python",
   "pygments_lexer": "ipython3",
   "version": "3.10.9"
  }
 },
 "nbformat": 4,
 "nbformat_minor": 5
}
