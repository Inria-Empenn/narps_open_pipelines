{
 "cells": [
  {
   "cell_type": "markdown",
   "id": "killing-average",
   "metadata": {},
   "source": [
    "# FMRI DATA ANALYSIS - NARPS DATASET TEAM X19V\n",
    "\n",
    "This notebook reproduce the analysis made by team **X19V** for the NARPS experiment (Botvinik-Nezer & al, 2020). \n",
    "\n",
    "**To use this notebook :** \n",
    "- Download fMRIprep data available [**here**](https://openneuro.org/datasets/ds001734/versions/1.0.4) or in [**datalad**](http://datasets.datalad.org/?dir=/workshops/nih-2017/ds001734).\n",
    "- Modify the paths:\n",
    "    - **exp_dir**: directory where the ds001734-download repository is stored\n",
    "    - **result_dir**: directory where the intermediate and final repositories will be stored\n",
    "    - **working_dir**: name of the directory where intermediate results will be stored\n",
    "    - **output_dir**: name of the directory where final results will be stored\n",
    "\n",
    "Botvinik-Nezer, R., Holzmeister, F., Camerer, C.F., Dreber, A., Huber, J., Johannesson, M., Kirchler, M., Iwanir, R., Mumford, J.A., ..., Nichols, T.E., Poldrack, R.A., Schonberg, T. (2020). Variability in the analysis of a single neuroimaging dataset by many teams. Nature. https://doi.org/10.1038/s41586-020-2314-9."
   ]
  },
  {
   "cell_type": "code",
   "execution_count": 1,
   "id": "adea61d4",
   "metadata": {},
   "outputs": [],
   "source": [
    "from os.path import join as opj\n",
    "import os\n",
    "import json\n",
    "from narps_open.pipelines import team_X19V"
   ]
  },
  {
   "cell_type": "code",
   "execution_count": 2,
   "id": "excited-relief",
   "metadata": {},
   "outputs": [],
   "source": [
    "team_ID = \"X19V\"\n",
    "\n",
    "# Important directories\n",
    "## exp_dir : where the data are stored (where the ds001734 directory is stored)\n",
    "exp_dir = '../data/original'\n",
    "\n",
    "## result_dir : where the intermediate and final results will be store\n",
    "result_dir = \"../data/derived/reproduced\"\n",
    "\n",
    "## working_dir : where the intermediate outputs will be store\n",
    "working_dir = f\"NARPS-{team_ID}-reproduced/intermediate_results\"\n",
    "\n",
    "## output_dir : where the final results will be store\n",
    "output_dir = f\"NARPS-{team_ID}-reproduced\"\n",
    "\n",
    "data_dir = '/home/narps_open_pipelines/data/derived/original'"
   ]
  },
  {
   "cell_type": "markdown",
   "id": "cathedral-commonwealth",
   "metadata": {},
   "source": [
    "## Single subject - Single run analysis"
   ]
  },
  {
   "cell_type": "markdown",
   "id": "later-target",
   "metadata": {},
   "source": [
    "### In/out Nodes + Important values"
   ]
  },
  {
   "cell_type": "code",
   "execution_count": null,
   "id": "respective-korea",
   "metadata": {},
   "outputs": [],
   "source": [
    "dir_list = os.listdir(exp_dir)\n",
    "\n",
    "# Subject list (to which we will do the analysis)\n",
    "subject_list = []\n",
    "for dirs in dir_list:\n",
    "    if dirs[0:3] == 'sub':\n",
    "        subject_list.append(dirs[-3:])\n",
    "\n",
    "# Run to use for this analysis\n",
    "run_list = ['01', '02', '03', '04']\n",
    "\n",
    "#TR\n",
    "with open(opj(exp_dir, 'task-MGT_bold.json'), 'rt') as fp:\n",
    "    task_info = json.load(fp)\n",
    "TR = task_info['RepetitionTime']\n",
    "\n",
    "#FWHM to smooth\n",
    "fwhm = 5"
   ]
  },
  {
   "cell_type": "code",
   "execution_count": null,
   "id": "cultural-cursor",
   "metadata": {},
   "outputs": [],
   "source": [
    "contrast_list = ['1', '2', '3', '4']\n",
    "n_sub = len(subject_list)"
   ]
  },
  {
   "cell_type": "code",
   "execution_count": null,
   "id": "local-reform",
   "metadata": {},
   "outputs": [],
   "source": [
    "l1_analysis = team_X19V.get_l1_analysis(subject_list, run_list, TR, fwhm, exp_dir, \n",
    "                                             output_dir, working_dir, result_dir)"
   ]
  },
  {
   "cell_type": "code",
   "execution_count": null,
   "id": "a62e94a4",
   "metadata": {},
   "outputs": [],
   "source": [
    "l1_analysis.run('MultiProc', plugin_args={'n_procs': 4})"
   ]
  },
  {
   "cell_type": "markdown",
   "id": "sitting-indication",
   "metadata": {},
   "source": [
    "## Second level analysis - Concatenate runs"
   ]
  },
  {
   "cell_type": "code",
   "execution_count": null,
   "id": "polar-yield",
   "metadata": {},
   "outputs": [],
   "source": [
    "l2_analysis = team_X19V.get_l2_analysis(subject_list, contrast_list, run_list, exp_dir, \n",
    "                                             output_dir, working_dir, result_dir)"
   ]
  },
  {
   "cell_type": "code",
   "execution_count": null,
   "id": "desirable-clone",
   "metadata": {
    "scrolled": true
   },
   "outputs": [],
   "source": [
    "l2_analysis.run('MultiProc', plugin_args={'n_procs': 4})"
   ]
  },
  {
   "cell_type": "markdown",
   "id": "macro-progress",
   "metadata": {},
   "source": [
    "## Third level analysis - Group level "
   ]
  },
  {
   "cell_type": "code",
   "execution_count": null,
   "id": "96942013",
   "metadata": {},
   "outputs": [],
   "source": [
    "n_sub = len(subject_list)"
   ]
  },
  {
   "cell_type": "code",
   "execution_count": null,
   "id": "human-sentence",
   "metadata": {},
   "outputs": [],
   "source": [
    "l3_analysis_equalRange = team_X19V.get_group_workflow(subject_list, n_sub, contrast_list, \"equalRange\", exp_dir, \n",
    "                                             output_dir, working_dir, result_dir, data_dir)\n",
    "\n",
    "l3_analysis_equalIndiff = team_X19V.get_group_workflow(subject_list, n_sub, contrast_list, \"equalIndifference\", \n",
    "                                                            exp_dir, output_dir, working_dir, result_dir, data_dir)\n",
    "l3_analysis_groupComp = team_X19V.get_group_workflow(subject_list, n_sub, contrast_list, \"groupComp\", exp_dir, \n",
    "                                                         output_dir, working_dir, result_dir, data_dir)"
   ]
  },
  {
   "cell_type": "code",
   "execution_count": null,
   "id": "14662313",
   "metadata": {},
   "outputs": [],
   "source": [
    "l3_analysis_equalRange.run()"
   ]
  },
  {
   "cell_type": "code",
   "execution_count": null,
   "id": "unlimited-suggestion",
   "metadata": {},
   "outputs": [],
   "source": [
    "l3_analysis_equalIndiff.run()"
   ]
  },
  {
   "cell_type": "code",
   "execution_count": null,
   "id": "2fb1405b",
   "metadata": {
    "scrolled": true
   },
   "outputs": [],
   "source": [
    "l3_analysis_groupComp.run('MultiProc', plugin_args={'n_procs': 4})"
   ]
  },
  {
   "cell_type": "code",
   "execution_count": null,
   "id": "2f5ce03f",
   "metadata": {},
   "outputs": [],
   "source": [
    "team_X19V.reorganize_results(result_dir, output_dir, n_sub, team_ID)"
   ]
  }
 ],
 "metadata": {
  "kernelspec": {
   "display_name": "Python 3 (ipykernel)",
   "language": "python",
   "name": "python3"
  },
  "language_info": {
   "codemirror_mode": {
    "name": "ipython",
    "version": 3
   },
   "file_extension": ".py",
   "mimetype": "text/x-python",
   "name": "python",
   "nbconvert_exporter": "python",
   "pygments_lexer": "ipython3",
   "version": "3.10.9"
  }
 },
 "nbformat": 4,
 "nbformat_minor": 5
}
