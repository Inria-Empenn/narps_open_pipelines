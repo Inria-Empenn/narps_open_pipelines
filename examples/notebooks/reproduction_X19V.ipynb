{
 "cells": [
  {
   "cell_type": "markdown",
   "id": "killing-average",
   "metadata": {},
   "source": [
    "# FMRI DATA ANALYSIS - NARPS DATASET TEAM X19V\n",
    "\n",
    "This notebook reproduce the analysis made by team **X19V** for the NARPS experiment (Botvinik-Nezer & al, 2020). \n",
    "\n",
    "**To use this notebook :** \n",
    "- Download fMRIprep data available [**here**](https://openneuro.org/datasets/ds001734/versions/1.0.4) or in [**datalad**](http://datasets.datalad.org/?dir=/workshops/nih-2017/ds001734).\n",
    "- Modify the paths:\n",
    "    - **exp_dir**: directory where the ds001734-download repository is stored\n",
    "    - **result_dir**: directory where the intermediate and final repositories will be stored\n",
    "    - **working_dir**: name of the directory where intermediate results will be stored\n",
    "    - **output_dir**: name of the directory where final results will be stored\n",
    "\n",
    "Botvinik-Nezer, R., Holzmeister, F., Camerer, C.F., Dreber, A., Huber, J., Johannesson, M., Kirchler, M., Iwanir, R., Mumford, J.A., ..., Nichols, T.E., Poldrack, R.A., Schonberg, T. (2020). Variability in the analysis of a single neuroimaging dataset by many teams. Nature. https://doi.org/10.1038/s41586-020-2314-9."
   ]
  },
  {
   "cell_type": "code",
   "execution_count": 1,
   "id": "adea61d4",
   "metadata": {},
   "outputs": [],
   "source": [
    "from os.path import join as opj\n",
    "from pathlib import Path\n",
    "import json\n",
    "from narps_open.pipelines import team_X19V"
   ]
  },
  {
   "cell_type": "code",
   "execution_count": 2,
   "id": "excited-relief",
   "metadata": {},
   "outputs": [],
   "source": [
    "team_ID = \"X19V\"\n",
    "\n",
    "DEBUG = True\n",
    "\n",
    "# Important directories\n",
    "## root_dir : where the code is stored\n",
    "root_dir = Path().cwd().parent.parent / \"data\"\n",
    "\n",
    "## exp_dir : where the data are stored (where the ds001734 directory is stored)\n",
    "exp_dir = root_dir / \"original\" / \"ds001734\"\n",
    "\n",
    "## result_dir : where the intermediate and final results will be store\n",
    "result_dir = root_dir / \"derived\" / \"reproduced\"\n",
    "\n",
    "## working_dir : where the intermediate outputs will be store\n",
    "working_dir = Path(f\"NARPS-{team_ID}-reproduced\") / \"intermediate_results\"\n",
    "\n",
    "## output_dir : where the final results will be store\n",
    "output_dir = f\"NARPS-{team_ID}-reproduced\"\n",
    "\n",
    "data_dir = root_dir / \"derived\" / \"original\""
   ]
  },
  {
   "cell_type": "markdown",
   "id": "cathedral-commonwealth",
   "metadata": {},
   "source": [
    "## Single subject - Single run analysis"
   ]
  },
  {
   "cell_type": "markdown",
   "id": "later-target",
   "metadata": {},
   "source": [
    "### In/out Nodes + Important values"
   ]
  },
  {
   "cell_type": "code",
   "execution_count": 3,
   "id": "respective-korea",
   "metadata": {},
   "outputs": [
    {
     "name": "stdout",
     "output_type": "stream",
     "text": [
      "Found 1 subjects\n"
     ]
    }
   ],
   "source": [
    "# subjects to use for this analysis\n",
    "subject_list = [dirs.stem[-3:] for dirs in exp_dir.iterdir() if dirs.stem[:3] == \"sub\"]\n",
    "\n",
    "if DEBUG:\n",
    "    subject_list = [\n",
    "        \"001\"\n",
    "    ]\n",
    "\n",
    "print(f\"Found {len(subject_list)} subjects\")\n",
    "\n",
    "# Run to use for this analysis\n",
    "run_list = [\"01\", \"02\", \"03\", \"04\"]\n",
    "\n",
    "# TR\n",
    "with open(opj(exp_dir, \"task-MGT_bold.json\"), \"rt\") as fp:\n",
    "    task_info = json.load(fp)\n",
    "TR = task_info[\"RepetitionTime\"]\n",
    "\n",
    "# FWHM to smooth\n",
    "fwhm = 5"
   ]
  },
  {
   "cell_type": "code",
   "execution_count": 4,
   "id": "cultural-cursor",
   "metadata": {},
   "outputs": [],
   "source": [
    "contrast_list = [\"1\", \"2\", \"3\", \"4\"]\n",
    "n_sub = len(subject_list)"
   ]
  },
  {
   "cell_type": "code",
   "execution_count": 5,
   "id": "local-reform",
   "metadata": {},
   "outputs": [],
   "source": [
    "l1_analysis = team_X19V.get_l1_analysis(\n",
    "    subject_list,\n",
    "    run_list,\n",
    "    TR,\n",
    "    fwhm,\n",
    "    str(exp_dir),\n",
    "    str(output_dir),\n",
    "    str(working_dir),\n",
    "    str(result_dir),\n",
    ")"
   ]
  },
  {
   "cell_type": "code",
   "execution_count": 6,
   "id": "a62e94a4",
   "metadata": {},
   "outputs": [
    {
     "name": "stdout",
     "output_type": "stream",
     "text": [
      "230918-17:17:15,524 nipype.workflow INFO:\n",
      "\t Workflow l1_analysis settings: ['check', 'execution', 'logging', 'monitoring']\n"
     ]
    },
    {
     "name": "stdout",
     "output_type": "stream",
     "text": [
      "230918-17:17:15,662 nipype.workflow INFO:\n",
      "\t Running in parallel.\n",
      "230918-17:17:15,990 nipype.workflow INFO:\n",
      "\t [MultiProc] Running 0 tasks, and 8 jobs ready. Free memory (GB): 27.87/27.87, Free processors: 1/1.\n",
      "230918-17:17:16,107 nipype.workflow INFO:\n",
      "\t [Node] Setting-up \"l1_analysis.selectfiles\" in \"/home/remi/github/narps_open_pipelines/data/derived/reproduced/NARPS-X19V-reproduced/intermediate_results/l1_analysis/_run_id_01_subject_id_001/selectfiles\".\n",
      "230918-17:17:16,131 nipype.workflow INFO:\n",
      "\t [Node] Executing \"selectfiles\" <nipype.interfaces.io.SelectFiles>\n",
      "230918-17:17:16,145 nipype.workflow INFO:\n",
      "\t [Node] Finished \"selectfiles\", elapsed time 0.004728s.\n",
      "230918-17:17:17,990 nipype.workflow INFO:\n",
      "\t [Job 0] Completed (l1_analysis.selectfiles).\n",
      "230918-17:17:17,999 nipype.workflow INFO:\n",
      "\t [MultiProc] Running 0 tasks, and 10 jobs ready. Free memory (GB): 27.87/27.87, Free processors: 1/1.\n",
      "230918-17:17:18,169 nipype.workflow INFO:\n",
      "\t [Job 1] Cached (l1_analysis.contrasts).\n",
      "230918-17:17:19,989 nipype.workflow INFO:\n",
      "\t [MultiProc] Running 0 tasks, and 9 jobs ready. Free memory (GB): 27.87/27.87, Free processors: 1/1.\n",
      "230918-17:17:20,82 nipype.workflow INFO:\n",
      "\t [Node] Setting-up \"l1_analysis.selectfiles\" in \"/home/remi/github/narps_open_pipelines/data/derived/reproduced/NARPS-X19V-reproduced/intermediate_results/l1_analysis/_run_id_02_subject_id_001/selectfiles\".\n",
      "230918-17:17:20,92 nipype.workflow INFO:\n",
      "\t [Node] Executing \"selectfiles\" <nipype.interfaces.io.SelectFiles>\n",
      "230918-17:17:20,101 nipype.workflow INFO:\n",
      "\t [Node] Finished \"selectfiles\", elapsed time 0.002243s.\n",
      "230918-17:17:21,988 nipype.workflow INFO:\n",
      "\t [Job 2] Completed (l1_analysis.selectfiles).\n",
      "230918-17:17:21,994 nipype.workflow INFO:\n",
      "\t [MultiProc] Running 0 tasks, and 11 jobs ready. Free memory (GB): 27.87/27.87, Free processors: 1/1.\n",
      "230918-17:17:22,81 nipype.workflow INFO:\n",
      "\t [Job 3] Cached (l1_analysis.contrasts).\n",
      "230918-17:17:23,990 nipype.workflow INFO:\n",
      "\t [MultiProc] Running 0 tasks, and 10 jobs ready. Free memory (GB): 27.87/27.87, Free processors: 1/1.\n",
      "230918-17:17:24,76 nipype.workflow INFO:\n",
      "\t [Node] Setting-up \"l1_analysis.selectfiles\" in \"/home/remi/github/narps_open_pipelines/data/derived/reproduced/NARPS-X19V-reproduced/intermediate_results/l1_analysis/_run_id_03_subject_id_001/selectfiles\".\n",
      "230918-17:17:24,88 nipype.workflow INFO:\n",
      "\t [Node] Executing \"selectfiles\" <nipype.interfaces.io.SelectFiles>\n",
      "230918-17:17:24,96 nipype.workflow INFO:\n",
      "\t [Node] Finished \"selectfiles\", elapsed time 0.001551s.\n",
      "230918-17:17:25,988 nipype.workflow INFO:\n",
      "\t [Job 4] Completed (l1_analysis.selectfiles).\n",
      "230918-17:17:25,994 nipype.workflow INFO:\n",
      "\t [MultiProc] Running 0 tasks, and 12 jobs ready. Free memory (GB): 27.87/27.87, Free processors: 1/1.\n",
      "230918-17:17:26,81 nipype.workflow INFO:\n",
      "\t [Job 5] Cached (l1_analysis.contrasts).\n",
      "230918-17:17:27,990 nipype.workflow INFO:\n",
      "\t [MultiProc] Running 0 tasks, and 11 jobs ready. Free memory (GB): 27.87/27.87, Free processors: 1/1.\n",
      "230918-17:17:28,83 nipype.workflow INFO:\n",
      "\t [Node] Setting-up \"l1_analysis.selectfiles\" in \"/home/remi/github/narps_open_pipelines/data/derived/reproduced/NARPS-X19V-reproduced/intermediate_results/l1_analysis/_run_id_04_subject_id_001/selectfiles\".\n",
      "230918-17:17:28,95 nipype.workflow INFO:\n",
      "\t [Node] Executing \"selectfiles\" <nipype.interfaces.io.SelectFiles>\n",
      "230918-17:17:28,105 nipype.workflow INFO:\n",
      "\t [Node] Finished \"selectfiles\", elapsed time 0.002296s.\n",
      "230918-17:17:29,989 nipype.workflow INFO:\n",
      "\t [Job 6] Completed (l1_analysis.selectfiles).\n",
      "230918-17:17:29,995 nipype.workflow INFO:\n",
      "\t [MultiProc] Running 0 tasks, and 13 jobs ready. Free memory (GB): 27.87/27.87, Free processors: 1/1.\n",
      "230918-17:17:30,77 nipype.workflow INFO:\n",
      "\t [Job 7] Cached (l1_analysis.contrasts).\n",
      "230918-17:17:31,991 nipype.workflow INFO:\n",
      "\t [MultiProc] Running 0 tasks, and 12 jobs ready. Free memory (GB): 27.87/27.87, Free processors: 1/1.\n",
      "230918-17:17:32,75 nipype.workflow INFO:\n",
      "\t [Job 8] Cached (l1_analysis.get_subject_infos).\n",
      "230918-17:17:33,991 nipype.workflow INFO:\n",
      "\t [MultiProc] Running 0 tasks, and 11 jobs ready. Free memory (GB): 27.87/27.87, Free processors: 1/1.\n",
      "230918-17:17:34,77 nipype.workflow INFO:\n",
      "\t [Job 9] Cached (l1_analysis.parameters).\n",
      "230918-17:17:35,991 nipype.workflow INFO:\n",
      "\t [MultiProc] Running 0 tasks, and 10 jobs ready. Free memory (GB): 27.87/27.87, Free processors: 1/1.\n",
      "230918-17:17:36,81 nipype.workflow INFO:\n",
      "\t [Job 10] Cached (l1_analysis.skullstrip).\n",
      "230918-17:17:38,71 nipype.workflow INFO:\n",
      "\t [Job 11] Cached (l1_analysis.get_subject_infos).\n",
      "230918-17:17:39,992 nipype.workflow INFO:\n",
      "\t [MultiProc] Running 0 tasks, and 9 jobs ready. Free memory (GB): 27.87/27.87, Free processors: 1/1.\n",
      "230918-17:17:40,77 nipype.workflow INFO:\n",
      "\t [Job 12] Cached (l1_analysis.parameters).\n",
      "230918-17:17:41,992 nipype.workflow INFO:\n",
      "\t [MultiProc] Running 0 tasks, and 8 jobs ready. Free memory (GB): 27.87/27.87, Free processors: 1/1.\n",
      "230918-17:17:42,81 nipype.workflow INFO:\n",
      "\t [Job 13] Cached (l1_analysis.skullstrip).\n",
      "230918-17:17:44,74 nipype.workflow INFO:\n",
      "\t [Job 14] Cached (l1_analysis.get_subject_infos).\n",
      "230918-17:17:45,992 nipype.workflow INFO:\n",
      "\t [MultiProc] Running 0 tasks, and 7 jobs ready. Free memory (GB): 27.87/27.87, Free processors: 1/1.\n",
      "230918-17:17:46,85 nipype.workflow INFO:\n",
      "\t [Job 15] Cached (l1_analysis.parameters).\n",
      "230918-17:17:47,993 nipype.workflow INFO:\n",
      "\t [MultiProc] Running 0 tasks, and 6 jobs ready. Free memory (GB): 27.87/27.87, Free processors: 1/1.\n",
      "230918-17:17:48,81 nipype.workflow INFO:\n",
      "\t [Job 16] Cached (l1_analysis.skullstrip).\n",
      "230918-17:17:50,92 nipype.workflow INFO:\n",
      "\t [Job 17] Cached (l1_analysis.get_subject_infos).\n",
      "230918-17:17:51,991 nipype.workflow INFO:\n",
      "\t [MultiProc] Running 0 tasks, and 5 jobs ready. Free memory (GB): 27.87/27.87, Free processors: 1/1.\n",
      "230918-17:17:52,47 nipype.workflow INFO:\n",
      "\t [Job 18] Cached (l1_analysis.parameters).\n",
      "230918-17:17:53,991 nipype.workflow INFO:\n",
      "\t [MultiProc] Running 0 tasks, and 4 jobs ready. Free memory (GB): 27.87/27.87, Free processors: 1/1.\n",
      "230918-17:17:54,48 nipype.workflow INFO:\n",
      "\t [Job 19] Cached (l1_analysis.skullstrip).\n",
      "230918-17:17:56,36 nipype.workflow INFO:\n",
      "\t [Job 20] Cached (l1_analysis.smooth).\n",
      "230918-17:17:58,28 nipype.workflow INFO:\n",
      "\t [Job 21] Cached (l1_analysis.smooth).\n",
      "230918-17:18:00,69 nipype.workflow INFO:\n",
      "\t [Job 22] Cached (l1_analysis.smooth).\n",
      "230918-17:18:02,69 nipype.workflow INFO:\n",
      "\t [Job 23] Cached (l1_analysis.smooth).\n",
      "230918-17:18:04,83 nipype.workflow INFO:\n",
      "\t [Job 24] Cached (l1_analysis.specify_model).\n",
      "230918-17:18:06,83 nipype.workflow INFO:\n",
      "\t [Job 25] Cached (l1_analysis.specify_model).\n",
      "230918-17:18:08,87 nipype.workflow INFO:\n",
      "\t [Job 26] Cached (l1_analysis.specify_model).\n",
      "230918-17:18:10,91 nipype.workflow INFO:\n",
      "\t [Job 27] Cached (l1_analysis.specify_model).\n",
      "230918-17:18:12,38 nipype.workflow INFO:\n",
      "\t [Job 28] Cached (l1_analysis.l1_design).\n",
      "230918-17:18:14,42 nipype.workflow INFO:\n",
      "\t [Job 29] Cached (l1_analysis.l1_design).\n",
      "230918-17:18:16,142 nipype.workflow INFO:\n",
      "\t [Job 30] Cached (l1_analysis.l1_design).\n",
      "230918-17:18:18,141 nipype.workflow INFO:\n",
      "\t [Job 31] Cached (l1_analysis.l1_design).\n",
      "230918-17:18:20,83 nipype.workflow INFO:\n",
      "\t [Job 32] Cached (l1_analysis.model_generation).\n",
      "230918-17:18:22,77 nipype.workflow INFO:\n",
      "\t [Job 33] Cached (l1_analysis.model_generation).\n",
      "230918-17:18:24,111 nipype.workflow INFO:\n",
      "\t [Job 34] Cached (l1_analysis.model_generation).\n",
      "230918-17:18:26,82 nipype.workflow INFO:\n",
      "\t [Job 35] Cached (l1_analysis.model_generation).\n",
      "230918-17:18:28,86 nipype.workflow INFO:\n",
      "\t [Node] Setting-up \"l1_analysis.model_estimate\" in \"/home/remi/github/narps_open_pipelines/data/derived/reproduced/NARPS-X19V-reproduced/intermediate_results/l1_analysis/_run_id_01_subject_id_001/model_estimate\".\n",
      "230918-17:18:28,133 nipype.workflow INFO:\n",
      "\t [Node] Executing \"model_estimate\" <nipype.interfaces.fsl.model.FILMGLS>\n",
      "230918-17:18:29,994 nipype.workflow INFO:\n",
      "\t [MultiProc] Running 1 tasks, and 3 jobs ready. Free memory (GB): 27.67/27.87, Free processors: 0/1.\n",
      "                     Currently running:\n",
      "                       * l1_analysis.model_estimate\n",
      "230918-17:33:06,800 nipype.workflow INFO:\n",
      "\t [Node] Finished \"model_estimate\", elapsed time 878.660767s.\n",
      "230918-17:33:08,58 nipype.workflow INFO:\n",
      "\t [Job 36] Completed (l1_analysis.model_estimate).\n",
      "230918-17:33:08,63 nipype.workflow INFO:\n",
      "\t [MultiProc] Running 0 tasks, and 5 jobs ready. Free memory (GB): 27.87/27.87, Free processors: 1/1.\n",
      "230918-17:33:08,141 nipype.workflow INFO:\n",
      "\t [Node] Setting-up \"l1_analysis.model_estimate\" in \"/home/remi/github/narps_open_pipelines/data/derived/reproduced/NARPS-X19V-reproduced/intermediate_results/l1_analysis/_run_id_02_subject_id_001/model_estimate\".\n",
      "230918-17:33:08,157 nipype.workflow INFO:\n",
      "\t [Node] Executing \"model_estimate\" <nipype.interfaces.fsl.model.FILMGLS>\n",
      "230918-17:33:10,61 nipype.workflow INFO:\n",
      "\t [MultiProc] Running 1 tasks, and 4 jobs ready. Free memory (GB): 27.67/27.87, Free processors: 0/1.\n",
      "                     Currently running:\n",
      "                       * l1_analysis.model_estimate\n",
      "230918-17:46:36,378 nipype.workflow INFO:\n",
      "\t [Node] Finished \"model_estimate\", elapsed time 808.215274s.\n",
      "230918-17:46:38,115 nipype.workflow INFO:\n",
      "\t [Job 37] Completed (l1_analysis.model_estimate).\n",
      "230918-17:46:38,121 nipype.workflow INFO:\n",
      "\t [MultiProc] Running 0 tasks, and 6 jobs ready. Free memory (GB): 27.87/27.87, Free processors: 1/1.\n",
      "230918-17:46:38,199 nipype.workflow INFO:\n",
      "\t [Node] Setting-up \"l1_analysis.model_estimate\" in \"/home/remi/github/narps_open_pipelines/data/derived/reproduced/NARPS-X19V-reproduced/intermediate_results/l1_analysis/_run_id_03_subject_id_001/model_estimate\".\n",
      "230918-17:46:38,242 nipype.workflow INFO:\n",
      "\t [Node] Executing \"model_estimate\" <nipype.interfaces.fsl.model.FILMGLS>\n",
      "230918-17:46:40,114 nipype.workflow INFO:\n",
      "\t [MultiProc] Running 1 tasks, and 5 jobs ready. Free memory (GB): 27.67/27.87, Free processors: 0/1.\n",
      "                     Currently running:\n",
      "                       * l1_analysis.model_estimate\n",
      "230918-18:00:54,726 nipype.workflow INFO:\n",
      "\t [Node] Finished \"model_estimate\", elapsed time 856.478466s.\n",
      "230918-18:00:56,177 nipype.workflow INFO:\n",
      "\t [Job 38] Completed (l1_analysis.model_estimate).\n",
      "230918-18:00:56,184 nipype.workflow INFO:\n",
      "\t [MultiProc] Running 0 tasks, and 7 jobs ready. Free memory (GB): 27.87/27.87, Free processors: 1/1.\n",
      "230918-18:00:56,294 nipype.workflow INFO:\n",
      "\t [Node] Setting-up \"l1_analysis.model_estimate\" in \"/home/remi/github/narps_open_pipelines/data/derived/reproduced/NARPS-X19V-reproduced/intermediate_results/l1_analysis/_run_id_04_subject_id_001/model_estimate\".\n",
      "230918-18:00:56,342 nipype.workflow INFO:\n",
      "\t [Node] Executing \"model_estimate\" <nipype.interfaces.fsl.model.FILMGLS>\n",
      "230918-18:00:58,176 nipype.workflow INFO:\n",
      "\t [MultiProc] Running 1 tasks, and 6 jobs ready. Free memory (GB): 27.67/27.87, Free processors: 0/1.\n",
      "                     Currently running:\n",
      "                       * l1_analysis.model_estimate\n"
     ]
    }
   ],
   "source": [
    "l1_analysis.run(\"MultiProc\", plugin_args={\"n_procs\": 1})"
   ]
  },
  {
   "cell_type": "markdown",
   "id": "sitting-indication",
   "metadata": {},
   "source": [
    "## Second level analysis - Concatenate runs"
   ]
  },
  {
   "cell_type": "code",
   "execution_count": null,
   "id": "polar-yield",
   "metadata": {},
   "outputs": [],
   "source": [
    "l2_analysis = team_X19V.get_l2_analysis(\n",
    "    subject_list,\n",
    "    contrast_list,\n",
    "    run_list,\n",
    "    str(exp_dir),\n",
    "    str(output_dir),\n",
    "    str(working_dir),\n",
    "    str(result_dir),\n",
    ")"
   ]
  },
  {
   "cell_type": "code",
   "execution_count": null,
   "id": "desirable-clone",
   "metadata": {
    "scrolled": true
   },
   "outputs": [],
   "source": [
    "l2_analysis.run(\"MultiProc\", plugin_args={\"n_procs\": 4})"
   ]
  },
  {
   "cell_type": "markdown",
   "id": "macro-progress",
   "metadata": {},
   "source": [
    "## Third level analysis - Group level "
   ]
  },
  {
   "cell_type": "code",
   "execution_count": null,
   "id": "96942013",
   "metadata": {},
   "outputs": [],
   "source": [
    "n_sub = len(subject_list)"
   ]
  },
  {
   "cell_type": "code",
   "execution_count": null,
   "id": "human-sentence",
   "metadata": {},
   "outputs": [],
   "source": [
    "l3_analysis_equalRange = team_X19V.get_group_workflow(\n",
    "    subject_list,\n",
    "    n_sub,\n",
    "    contrast_list,\n",
    "    \"equalRange\",\n",
    "    exp_dir,\n",
    "    output_dir,\n",
    "    working_dir,\n",
    "    result_dir,\n",
    "    data_dir,\n",
    ")\n",
    "\n",
    "l3_analysis_equalIndiff = team_X19V.get_group_workflow(\n",
    "    subject_list,\n",
    "    n_sub,\n",
    "    contrast_list,\n",
    "    \"equalIndifference\",\n",
    "    exp_dir,\n",
    "    output_dir,\n",
    "    working_dir,\n",
    "    result_dir,\n",
    "    data_dir,\n",
    ")\n",
    "l3_analysis_groupComp = team_X19V.get_group_workflow(\n",
    "    subject_list,\n",
    "    n_sub,\n",
    "    contrast_list,\n",
    "    \"groupComp\",\n",
    "    exp_dir,\n",
    "    output_dir,\n",
    "    working_dir,\n",
    "    result_dir,\n",
    "    data_dir,\n",
    ")"
   ]
  },
  {
   "cell_type": "code",
   "execution_count": null,
   "id": "14662313",
   "metadata": {},
   "outputs": [],
   "source": [
    "l3_analysis_equalRange.run()"
   ]
  },
  {
   "cell_type": "code",
   "execution_count": null,
   "id": "unlimited-suggestion",
   "metadata": {},
   "outputs": [],
   "source": [
    "l3_analysis_equalIndiff.run()"
   ]
  },
  {
   "cell_type": "code",
   "execution_count": null,
   "id": "2fb1405b",
   "metadata": {
    "scrolled": true
   },
   "outputs": [],
   "source": [
    "l3_analysis_groupComp.run(\"MultiProc\", plugin_args={\"n_procs\": 4})"
   ]
  },
  {
   "cell_type": "code",
   "execution_count": null,
   "id": "2f5ce03f",
   "metadata": {},
   "outputs": [],
   "source": [
    "team_X19V.reorganize_results(result_dir, output_dir, n_sub, team_ID)"
   ]
  }
 ],
 "metadata": {
  "kernelspec": {
   "display_name": "Python 3 (ipykernel)",
   "language": "python",
   "name": "python3"
  },
  "language_info": {
   "codemirror_mode": {
    "name": "ipython",
    "version": 3
   },
   "file_extension": ".py",
   "mimetype": "text/x-python",
   "name": "python",
   "nbconvert_exporter": "python",
   "pygments_lexer": "ipython3",
   "version": "3.11.3"
  }
 },
 "nbformat": 4,
 "nbformat_minor": 5
}
