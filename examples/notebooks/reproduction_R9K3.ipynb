{
 "cells": [
  {
   "cell_type": "markdown",
   "id": "rental-uniform",
   "metadata": {},
   "source": [
    "# FMRI DATA ANALYSIS - NARPS DATASET BY TEAM R9K3"
   ]
  },
  {
   "cell_type": "markdown",
   "id": "digital-murray",
   "metadata": {},
   "source": [
    "This notebook reproduce the analysis made by team **R9K3** for the NARPS experiment (Botvinik-Nezer & al, 2020). \n",
    "\n",
    "\n",
    "**To use this notebook :** \n",
    "- Download fMRIprep datas available [**here**](https://openneuro.org/datasets/ds001734/versions/1.0.4) \n",
    "  or in [**datalad**](http://datasets.datalad.org/?dir=/workshops/nih-2017/ds001734).\n",
    "\n",
    "Botvinik-Nezer, R., Holzmeister, F., Camerer, C.F., Dreber, A., Huber, J., Johannesson, M., Kirchler, M., Iwanir, R., Mumford, J.A., ..., Nichols, T.E., Poldrack, R.A., Schonberg, T. (2020). Variability in the analysis of a single neuroimaging dataset by many teams. Nature. https://doi.org/10.1038/s41586-020-2314-9."
   ]
  },
  {
   "cell_type": "code",
   "execution_count": 1,
   "id": "4e100330",
   "metadata": {},
   "outputs": [],
   "source": [
    "# %load_ext nb_black"
   ]
  },
  {
   "cell_type": "code",
   "execution_count": 2,
   "id": "c2fdc8c2",
   "metadata": {},
   "outputs": [],
   "source": [
    "%load_ext autoreload\n",
    "%autoreload 2"
   ]
  },
  {
   "cell_type": "code",
   "execution_count": 3,
   "id": "satellite-launch",
   "metadata": {},
   "outputs": [
    {
     "name": "stderr",
     "output_type": "stream",
     "text": [
      "stty: 'standard input': Inappropriate ioctl for device\n"
     ]
    }
   ],
   "source": [
    "# Set the path to matlab\n",
    "## NECESSARY TO USE SPM\n",
    "from nipype.interfaces import spm\n",
    "\n",
    "matlab_cmd = \"/opt/spm12-r7771/run_spm12.sh /opt/matlabmcr-2010a/v713/ script\"\n",
    "spm.SPMCommand.set_mlab_paths(matlab_cmd=matlab_cmd, use_mcr=True)"
   ]
  },
  {
   "cell_type": "code",
   "execution_count": 4,
   "id": "digital-intention",
   "metadata": {},
   "outputs": [],
   "source": [
    "import os\n",
    "import json\n",
    "from os.path import join as opj\n",
    "from narps_open.pipelines import team_R9K3_wip\n",
    "from narps_open import utils"
   ]
  },
  {
   "cell_type": "code",
   "execution_count": 22,
   "id": "occasional-rotation",
   "metadata": {},
   "outputs": [
    {
     "name": "stdout",
     "output_type": "stream",
     "text": [
      "{'teamID': 'R9K3', 'n_participants': 102, 'excluded_participants': ['016', '030', '085', '088', '100', '116'], 'func_fwhm': 6.0, 'con_fwhm': nan, 'subject_list': ['103', '119', '060', '040', '071', '056', '066', '077', '109', '096', '063', '069', '079', '055', '046', '114', '105', '120', '025', '112', '052', '021', '001', '019', '058', '099', '017', '037', '075', '005', '089', '038', '113', '050', '032', '080', '110', '024', '049', '014', '053', '009', '044', '036', '051', '102', '093', '033', '068', '008', '026', '013', '117', '098', '081', '092', '106', '057', '027', '118', '022', '006', '039', '018', '084', '070', '073', '095', '082', '124', '067', '002', '010', '123', '011', '045', '054', '035', '104', '090', '020', '041', '083', '064', '115', '004', '121', '061', '074', '076', '043', '108', '107', '094', '072', '015', '029', '047', '003', '059', '087', '062'], 'directories': {'root': '/home', 'exp': '/home/data/original/ds001734', 'output': 'NARPS-R9K3-reproduced', 'working': 'NARPS-R9K3-reproduced/intermediate_results', 'result': '/home/data/derived/reproduced'}}\n"
     ]
    }
   ],
   "source": [
    "team_ID = \"R9K3\"\n",
    "\n",
    "cfg = utils.return_team_config(team_ID)\n",
    "\n",
    "print(cfg)"
   ]
  },
  {
   "cell_type": "code",
   "execution_count": 7,
   "id": "convenient-virus",
   "metadata": {},
   "outputs": [],
   "source": [
    "# Run to use for this analysis\n",
    "run_list = [\"01\", \"02\", \"03\", \"04\"]\n",
    "\n",
    "# TR\n",
    "with open(opj(cfg[\"directories\"][\"exp\"], \"task-MGT_bold.json\"), \"rt\") as fp:\n",
    "    task_info = json.load(fp)\n",
    "TR = task_info[\"RepetitionTime\"]"
   ]
  },
  {
   "cell_type": "code",
   "execution_count": 23,
   "id": "22972b18",
   "metadata": {},
   "outputs": [],
   "source": [
    "cfg[\"subject_list\"] = [\"001\"]"
   ]
  },
  {
   "cell_type": "code",
   "execution_count": 24,
   "id": "45788b92",
   "metadata": {},
   "outputs": [],
   "source": [
    "preprocessing = team_R9K3_wip.get_preprocessing(\n",
    "    exp_dir=cfg[\"directories\"][\"exp\"],\n",
    "    result_dir=cfg[\"directories\"][\"result\"],\n",
    "    working_dir=cfg[\"directories\"][\"working\"],\n",
    "    output_dir=cfg[\"directories\"][\"output\"],\n",
    "    subject_list=cfg[\"subject_list\"],\n",
    "    run_list=run_list,\n",
    "    fwhm=cfg[\"func_fwhm\"],\n",
    ")"
   ]
  },
  {
   "cell_type": "code",
   "execution_count": 25,
   "id": "c4dc2073",
   "metadata": {},
   "outputs": [
    {
     "name": "stdout",
     "output_type": "stream",
     "text": [
      "220619-13:49:48,681 nipype.workflow INFO:\n",
      "\t Workflow preprocessing settings: ['check', 'execution', 'logging', 'monitoring']\n",
      "220619-13:49:48,699 nipype.workflow INFO:\n",
      "\t Running serially.\n",
      "220619-13:49:48,700 nipype.workflow INFO:\n",
      "\t [Node] Setting-up \"preprocessing.selectfiles_preproc\" in \"/home/data/derived/reproduced/NARPS-R9K3-reproduced/intermediate_results/preprocessing/_run_id_01_subject_id_001/selectfiles_preproc\".\n",
      "220619-13:49:48,702 nipype.workflow INFO:\n",
      "\t [Node] Executing \"selectfiles_preproc\" <nipype.interfaces.io.SelectFiles>\n",
      "220619-13:49:48,705 nipype.workflow INFO:\n",
      "\t [Node] Finished \"selectfiles_preproc\", elapsed time 0.000415s.\n",
      "220619-13:49:48,708 nipype.workflow INFO:\n",
      "\t [Node] Setting-up \"preprocessing.selectfiles_preproc\" in \"/home/data/derived/reproduced/NARPS-R9K3-reproduced/intermediate_results/preprocessing/_run_id_02_subject_id_001/selectfiles_preproc\".\n",
      "220619-13:49:48,710 nipype.workflow INFO:\n",
      "\t [Node] Executing \"selectfiles_preproc\" <nipype.interfaces.io.SelectFiles>\n",
      "220619-13:49:48,713 nipype.workflow INFO:\n",
      "\t [Node] Finished \"selectfiles_preproc\", elapsed time 0.000932s.\n",
      "220619-13:49:48,715 nipype.workflow INFO:\n",
      "\t [Node] Setting-up \"preprocessing.selectfiles_preproc\" in \"/home/data/derived/reproduced/NARPS-R9K3-reproduced/intermediate_results/preprocessing/_run_id_03_subject_id_001/selectfiles_preproc\".\n",
      "220619-13:49:48,718 nipype.workflow INFO:\n",
      "\t [Node] Executing \"selectfiles_preproc\" <nipype.interfaces.io.SelectFiles>\n",
      "220619-13:49:48,720 nipype.workflow INFO:\n",
      "\t [Node] Finished \"selectfiles_preproc\", elapsed time 0.000334s.\n",
      "220619-13:49:48,722 nipype.workflow INFO:\n",
      "\t [Node] Setting-up \"preprocessing.selectfiles_preproc\" in \"/home/data/derived/reproduced/NARPS-R9K3-reproduced/intermediate_results/preprocessing/_run_id_04_subject_id_001/selectfiles_preproc\".\n",
      "220619-13:49:48,725 nipype.workflow INFO:\n",
      "\t [Node] Executing \"selectfiles_preproc\" <nipype.interfaces.io.SelectFiles>\n",
      "220619-13:49:48,728 nipype.workflow INFO:\n",
      "\t [Node] Finished \"selectfiles_preproc\", elapsed time 0.000664s.\n",
      "220619-13:49:48,731 nipype.workflow INFO:\n",
      "\t [Node] Setting-up \"preprocessing.gunzip_func\" in \"/home/data/derived/reproduced/NARPS-R9K3-reproduced/intermediate_results/preprocessing/_run_id_01_subject_id_001/gunzip_func\".\n",
      "220619-13:49:48,734 nipype.workflow INFO:\n",
      "\t [Node] Executing \"gunzip_func\" <nipype.algorithms.misc.Gunzip>\n",
      "220619-13:50:03,230 nipype.workflow INFO:\n",
      "\t [Node] Finished \"gunzip_func\", elapsed time 14.493792s.\n",
      "220619-13:50:03,233 nipype.workflow INFO:\n",
      "\t [Node] Setting-up \"preprocessing.gunzip_func\" in \"/home/data/derived/reproduced/NARPS-R9K3-reproduced/intermediate_results/preprocessing/_run_id_02_subject_id_001/gunzip_func\".\n",
      "220619-13:50:03,236 nipype.workflow INFO:\n",
      "\t [Node] Executing \"gunzip_func\" <nipype.algorithms.misc.Gunzip>\n",
      "220619-13:50:26,7 nipype.workflow INFO:\n",
      "\t [Node] Finished \"gunzip_func\", elapsed time 22.769622s.\n",
      "220619-13:50:26,18 nipype.workflow INFO:\n",
      "\t [Node] Setting-up \"preprocessing.gunzip_func\" in \"/home/data/derived/reproduced/NARPS-R9K3-reproduced/intermediate_results/preprocessing/_run_id_03_subject_id_001/gunzip_func\".\n",
      "220619-13:50:26,27 nipype.workflow INFO:\n",
      "\t [Node] Executing \"gunzip_func\" <nipype.algorithms.misc.Gunzip>\n",
      "220619-13:51:04,943 nipype.workflow INFO:\n",
      "\t [Node] Finished \"gunzip_func\", elapsed time 38.913061s.\n",
      "220619-13:51:04,951 nipype.workflow INFO:\n",
      "\t [Node] Setting-up \"preprocessing.gunzip_func\" in \"/home/data/derived/reproduced/NARPS-R9K3-reproduced/intermediate_results/preprocessing/_run_id_04_subject_id_001/gunzip_func\".\n",
      "220619-13:51:04,961 nipype.workflow INFO:\n",
      "\t [Node] Executing \"gunzip_func\" <nipype.algorithms.misc.Gunzip>\n",
      "220619-13:51:36,907 nipype.workflow INFO:\n",
      "\t [Node] Finished \"gunzip_func\", elapsed time 31.944538s.\n",
      "220619-13:51:36,909 nipype.workflow INFO:\n",
      "\t [Node] Setting-up \"preprocessing.smooth\" in \"/home/data/derived/reproduced/NARPS-R9K3-reproduced/intermediate_results/preprocessing/_run_id_01_subject_id_001/smooth\".\n",
      "220619-13:51:36,913 nipype.workflow INFO:\n",
      "\t [Node] Executing \"smooth\" <nipype.interfaces.spm.preprocess.Smooth>\n"
     ]
    },
    {
     "name": "stderr",
     "output_type": "stream",
     "text": [
      "stty: 'standard input': Inappropriate ioctl for device\n"
     ]
    },
    {
     "name": "stdout",
     "output_type": "stream",
     "text": [
      "220619-13:53:00,318 nipype.workflow INFO:\n",
      "\t [Node] Finished \"smooth\", elapsed time 81.21643s.\n",
      "220619-13:53:00,322 nipype.workflow INFO:\n",
      "\t [Node] Setting-up \"preprocessing.smooth\" in \"/home/data/derived/reproduced/NARPS-R9K3-reproduced/intermediate_results/preprocessing/_run_id_02_subject_id_001/smooth\".\n",
      "220619-13:53:00,326 nipype.workflow INFO:\n",
      "\t [Node] Executing \"smooth\" <nipype.interfaces.spm.preprocess.Smooth>\n"
     ]
    },
    {
     "name": "stderr",
     "output_type": "stream",
     "text": [
      "stty: 'standard input': Inappropriate ioctl for device\n"
     ]
    },
    {
     "name": "stdout",
     "output_type": "stream",
     "text": [
      "220619-13:54:24,854 nipype.workflow INFO:\n",
      "\t [Node] Finished \"smooth\", elapsed time 84.525722s.\n",
      "220619-13:54:24,857 nipype.workflow INFO:\n",
      "\t [Node] Setting-up \"preprocessing.smooth\" in \"/home/data/derived/reproduced/NARPS-R9K3-reproduced/intermediate_results/preprocessing/_run_id_03_subject_id_001/smooth\".\n",
      "220619-13:54:24,862 nipype.workflow INFO:\n",
      "\t [Node] Executing \"smooth\" <nipype.interfaces.spm.preprocess.Smooth>\n"
     ]
    },
    {
     "name": "stderr",
     "output_type": "stream",
     "text": [
      "stty: 'standard input': Inappropriate ioctl for device\n"
     ]
    },
    {
     "name": "stdout",
     "output_type": "stream",
     "text": [
      "220619-13:55:53,734 nipype.workflow INFO:\n",
      "\t [Node] Finished \"smooth\", elapsed time 88.870184s.\n",
      "220619-13:55:53,743 nipype.workflow INFO:\n",
      "\t [Node] Setting-up \"preprocessing.smooth\" in \"/home/data/derived/reproduced/NARPS-R9K3-reproduced/intermediate_results/preprocessing/_run_id_04_subject_id_001/smooth\".\n",
      "220619-13:55:53,758 nipype.workflow INFO:\n",
      "\t [Node] Executing \"smooth\" <nipype.interfaces.spm.preprocess.Smooth>\n"
     ]
    },
    {
     "name": "stderr",
     "output_type": "stream",
     "text": [
      "stty: 'standard input': Inappropriate ioctl for device\n"
     ]
    },
    {
     "name": "stdout",
     "output_type": "stream",
     "text": [
      "220619-13:57:21,260 nipype.workflow INFO:\n",
      "\t [Node] Finished \"smooth\", elapsed time 87.500582s.\n",
      "220619-13:57:21,286 nipype.workflow INFO:\n",
      "\t [Node] Setting-up \"preprocessing.datasink_preproc\" in \"/home/data/derived/reproduced/NARPS-R9K3-reproduced/intermediate_results/preprocessing/_run_id_01_subject_id_001/datasink_preproc\".\n",
      "220619-13:57:21,313 nipype.workflow INFO:\n",
      "\t [Node] Executing \"datasink_preproc\" <nipype.interfaces.io.DataSink>\n",
      "220619-13:57:21,323 nipype.workflow INFO:\n",
      "\t [Node] Finished \"datasink_preproc\", elapsed time 0.003325s.\n",
      "220619-13:57:21,339 nipype.workflow INFO:\n",
      "\t [Node] Setting-up \"preprocessing.datasink_preproc\" in \"/home/data/derived/reproduced/NARPS-R9K3-reproduced/intermediate_results/preprocessing/_run_id_02_subject_id_001/datasink_preproc\".\n",
      "220619-13:57:21,352 nipype.workflow INFO:\n",
      "\t [Node] Executing \"datasink_preproc\" <nipype.interfaces.io.DataSink>\n",
      "220619-13:57:21,356 nipype.workflow INFO:\n",
      "\t [Node] Finished \"datasink_preproc\", elapsed time 0.000986s.\n",
      "220619-13:57:21,361 nipype.workflow INFO:\n",
      "\t [Node] Setting-up \"preprocessing.datasink_preproc\" in \"/home/data/derived/reproduced/NARPS-R9K3-reproduced/intermediate_results/preprocessing/_run_id_03_subject_id_001/datasink_preproc\".\n",
      "220619-13:57:21,368 nipype.workflow INFO:\n",
      "\t [Node] Executing \"datasink_preproc\" <nipype.interfaces.io.DataSink>\n",
      "220619-13:57:21,371 nipype.workflow INFO:\n",
      "\t [Node] Finished \"datasink_preproc\", elapsed time 0.000616s.\n",
      "220619-13:57:21,374 nipype.workflow INFO:\n",
      "\t [Node] Setting-up \"preprocessing.datasink_preproc\" in \"/home/data/derived/reproduced/NARPS-R9K3-reproduced/intermediate_results/preprocessing/_run_id_04_subject_id_001/datasink_preproc\".\n",
      "220619-13:57:21,379 nipype.workflow INFO:\n",
      "\t [Node] Executing \"datasink_preproc\" <nipype.interfaces.io.DataSink>\n",
      "220619-13:57:21,381 nipype.workflow INFO:\n",
      "\t [Node] Finished \"datasink_preproc\", elapsed time 0.000471s.\n"
     ]
    },
    {
     "name": "stderr",
     "output_type": "stream",
     "text": [
      "stty: 'standard input': Inappropriate ioctl for device\n"
     ]
    },
    {
     "data": {
      "text/plain": [
       "<networkx.classes.digraph.DiGraph at 0x7f6b71ff17f0>"
      ]
     },
     "execution_count": 25,
     "metadata": {},
     "output_type": "execute_result"
    }
   ],
   "source": [
    "preprocessing.run()"
   ]
  }
 ],
 "metadata": {
  "kernelspec": {
   "display_name": "Python 3 (ipykernel)",
   "language": "python",
   "name": "python3"
  },
  "language_info": {
   "codemirror_mode": {
    "name": "ipython",
    "version": 3
   },
   "file_extension": ".py",
   "mimetype": "text/x-python",
   "name": "python",
   "nbconvert_exporter": "python",
   "pygments_lexer": "ipython3",
   "version": "3.10.9"
  }
 },
 "nbformat": 4,
 "nbformat_minor": 5
}
