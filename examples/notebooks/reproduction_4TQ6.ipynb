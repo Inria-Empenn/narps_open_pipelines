{
 "cells": [
  {
   "cell_type": "markdown",
   "id": "killing-average",
   "metadata": {},
   "source": [
    "# FMRI DATA ANALYSIS - NARPS DATASET TEAM 4TQ6\n",
    "\n",
    "This notebook reproduce the analysis made by team **4TQ6** for the NARPS experiment (Botvinik-Nezer & al, 2020). \n",
    "\n",
    "**To use this notebook :** \n",
    "- Download fMRIprep data available [**here**](https://openneuro.org/datasets/ds001734/versions/1.0.4) or in [**datalad**](http://datasets.datalad.org/?dir=/workshops/nih-2017/ds001734).\n",
    "- Modify the paths:\n",
    "    - **exp_dir**: directory where the ds001734-download repository is stored\n",
    "    - **result_dir**: directory where the intermediate and final repositories will be stored\n",
    "    - **working_dir**: name of the directory where intermediate results will be stored\n",
    "    - **output_dir**: name of the directory where final results will be stored\n",
    "\n",
    "Botvinik-Nezer, R., Holzmeister, F., Camerer, C.F., Dreber, A., Huber, J., Johannesson, M., Kirchler, M., Iwanir, R., Mumford, J.A., ..., Nichols, T.E., Poldrack, R.A., Schonberg, T. (2020). Variability in the analysis of a single neuroimaging dataset by many teams. Nature. https://doi.org/10.1038/s41586-020-2314-9."
   ]
  },
  {
   "cell_type": "code",
   "execution_count": 3,
   "id": "adea61d4",
   "metadata": {},
   "outputs": [],
   "source": [
    "from os.path import join as opj\n",
    "import os\n",
    "import json\n",
    "from narps_open.pipelines import team_4TQ6_wip"
   ]
  },
  {
   "cell_type": "code",
   "execution_count": 5,
   "id": "excited-relief",
   "metadata": {},
   "outputs": [],
   "source": [
    "team_ID = \"4TQ6\"\n",
    "\n",
    "# Important directories\n",
    "## exp_dir : where the data are stored (where the ds001734 directory is stored)\n",
    "exp_dir = '../data/original'\n",
    "\n",
    "## result_dir : where the intermediate and final results will be store\n",
    "result_dir = \"../data/derived/reproduced\"\n",
    "data_dir = '../data/derived/original'\n",
    "\n",
    "## working_dir : where the intermediate outputs will be store\n",
    "working_dir = f\"NARPS-{team_ID}-reproduced/intermediate_results\"\n",
    "\n",
    "## output_dir : where the final results will be store\n",
    "output_dir = f\"NARPS-{team_ID}-reproduced\""
   ]
  },
  {
   "cell_type": "markdown",
   "id": "cathedral-commonwealth",
   "metadata": {},
   "source": [
    "## Single subject - Single run analysis"
   ]
  },
  {
   "cell_type": "markdown",
   "id": "later-target",
   "metadata": {},
   "source": [
    "### In/out Nodes + Important values"
   ]
  },
  {
   "cell_type": "code",
   "execution_count": null,
   "id": "ae49457a",
   "metadata": {},
   "outputs": [],
   "source": [
    "# Subject list (to which we will do the analysis)\n",
    "dir_list = os.listdir(exp_dir)\n",
    "\n",
    "# Subject list (to which we will do the analysis)\n",
    "subject_list = []\n",
    "for dirs in dir_list:\n",
    "    if dirs[0:3] == 'sub':\n",
    "        subject_list.append(dirs[-3:])"
   ]
  },
  {
   "cell_type": "code",
   "execution_count": 7,
   "id": "cultural-cursor",
   "metadata": {},
   "outputs": [],
   "source": [
    "subject_list=['001']\n",
    "contrast_list = ['01', '02']\n",
    "n_sub = len(subject_list)"
   ]
  },
  {
   "cell_type": "code",
   "execution_count": 8,
   "id": "77472e4e",
   "metadata": {},
   "outputs": [],
   "source": [
    "#subject_list = ['001']\n",
    "run_list = ['01', '02', '03', '04']\n",
    "#TR\n",
    "with open(opj(exp_dir, 'task-MGT_bold.json'), 'rt') as fp:\n",
    "    task_info = json.load(fp)\n",
    "TR = task_info['RepetitionTime']\n",
    "\n",
    "#FWHM to smooth\n",
    "fwhm = 4"
   ]
  },
  {
   "cell_type": "code",
   "execution_count": 9,
   "id": "3b654109",
   "metadata": {},
   "outputs": [],
   "source": [
    "l1_analysis= team_4TQ6_wip.get_l1_analysis(subject_list, run_list, \n",
    "                                            TR, fwhm, exp_dir, output_dir, \n",
    "                                            working_dir, result_dir)"
   ]
  },
  {
   "cell_type": "code",
   "execution_count": 10,
   "id": "c6f84f0e",
   "metadata": {
    "scrolled": true
   },
   "outputs": [
    {
     "name": "stdout",
     "output_type": "stream",
     "text": [
      "220618-08:54:58,556 nipype.workflow INFO:\n",
      "\t Workflow l1_analysis settings: ['check', 'execution', 'logging', 'monitoring']\n",
      "220618-08:54:58,994 nipype.workflow INFO:\n",
      "\t Running in parallel.\n",
      "220618-08:54:59,100 nipype.workflow INFO:\n",
      "\t [MultiProc] Running 0 tasks, and 8 jobs ready. Free memory (GB): 6.99/6.99, Free processors: 4/4.\n",
      "220618-08:54:59,217 nipype.workflow INFO:\n",
      "\t [Node] Setting-up \"l1_analysis.contrasts\" in \"/home/narps_open_pipelines/data/derived/reproduced/NARPS-4TQ6-reproduced/intermediate_results/l1_analysis/_run_id_01_subject_id_001/contrasts\".\n",
      "220618-08:54:59,221 nipype.workflow INFO:\n",
      "\t [Node] Setting-up \"l1_analysis.selectfiles\" in \"/home/narps_open_pipelines/data/derived/reproduced/NARPS-4TQ6-reproduced/intermediate_results/l1_analysis/_run_id_02_subject_id_001/selectfiles\".\n",
      "220618-08:54:59,212 nipype.workflow INFO:\n",
      "\t [Node] Setting-up \"l1_analysis.selectfiles\" in \"/home/narps_open_pipelines/data/derived/reproduced/NARPS-4TQ6-reproduced/intermediate_results/l1_analysis/_run_id_01_subject_id_001/selectfiles\".\n",
      "220618-08:54:59,222 nipype.workflow INFO:\n",
      "\t [Node] Setting-up \"l1_analysis.contrasts\" in \"/home/narps_open_pipelines/data/derived/reproduced/NARPS-4TQ6-reproduced/intermediate_results/l1_analysis/_run_id_02_subject_id_001/contrasts\".\n",
      "220618-08:54:59,307 nipype.workflow INFO:\n",
      "\t [Node] Executing \"contrasts\" <nipype.interfaces.utility.wrappers.Function>\n",
      "220618-08:54:59,309 nipype.workflow INFO:\n",
      "\t [Node] Executing \"selectfiles\" <nipype.interfaces.io.SelectFiles>\n",
      "220618-08:54:59,308 nipype.workflow INFO:\n",
      "\t [Node] Executing \"selectfiles\" <nipype.interfaces.io.SelectFiles>\n",
      "220618-08:54:59,324 nipype.workflow INFO:\n",
      "\t [Node] Executing \"contrasts\" <nipype.interfaces.utility.wrappers.Function>\n",
      "220618-08:54:59,322 nipype.workflow INFO:\n",
      "\t [Node] Finished \"contrasts\", elapsed time 0.003335s.\n",
      "220618-08:54:59,351 nipype.workflow INFO:\n",
      "\t [Node] Finished \"contrasts\", elapsed time 0.00446s.\n",
      "220618-08:54:59,338 nipype.workflow INFO:\n",
      "\t [Node] Finished \"selectfiles\", elapsed time 0.009813s.\n",
      "220618-08:54:59,400 nipype.workflow INFO:\n",
      "\t [Node] Finished \"selectfiles\", elapsed time 0.068944s.\n",
      "220618-08:55:01,121 nipype.workflow INFO:\n",
      "\t [Job 0] Completed (l1_analysis.selectfiles).\n",
      "220618-08:55:01,156 nipype.workflow INFO:\n",
      "\t [Job 1] Completed (l1_analysis.contrasts).\n",
      "220618-08:55:01,166 nipype.workflow INFO:\n",
      "\t [Job 2] Completed (l1_analysis.selectfiles).\n",
      "220618-08:55:01,178 nipype.workflow INFO:\n",
      "\t [Job 3] Completed (l1_analysis.contrasts).\n",
      "220618-08:55:01,191 nipype.workflow INFO:\n",
      "\t [MultiProc] Running 0 tasks, and 8 jobs ready. Free memory (GB): 6.99/6.99, Free processors: 4/4.\n",
      "220618-08:55:01,284 nipype.workflow INFO:\n",
      "\t [Node] Setting-up \"l1_analysis.selectfiles\" in \"/home/narps_open_pipelines/data/derived/reproduced/NARPS-4TQ6-reproduced/intermediate_results/l1_analysis/_run_id_03_subject_id_001/selectfiles\".\n",
      "220618-08:55:01,287 nipype.workflow INFO:\n",
      "\t [Node] Setting-up \"l1_analysis.contrasts\" in \"/home/narps_open_pipelines/data/derived/reproduced/NARPS-4TQ6-reproduced/intermediate_results/l1_analysis/_run_id_03_subject_id_001/contrasts\".\n",
      "220618-08:55:01,297 nipype.workflow INFO:\n",
      "\t [Node] Setting-up \"l1_analysis.contrasts\" in \"/home/narps_open_pipelines/data/derived/reproduced/NARPS-4TQ6-reproduced/intermediate_results/l1_analysis/_run_id_04_subject_id_001/contrasts\".\n",
      "220618-08:55:01,297 nipype.workflow INFO:\n",
      "\t [Node] Setting-up \"l1_analysis.selectfiles\" in \"/home/narps_open_pipelines/data/derived/reproduced/NARPS-4TQ6-reproduced/intermediate_results/l1_analysis/_run_id_04_subject_id_001/selectfiles\".\n",
      "220618-08:55:01,352 nipype.workflow INFO:\n",
      "\t [Node] Executing \"contrasts\" <nipype.interfaces.utility.wrappers.Function>\n",
      "220618-08:55:01,355 nipype.workflow INFO:\n",
      "\t [Node] Executing \"selectfiles\" <nipype.interfaces.io.SelectFiles>\n",
      "220618-08:55:01,358 nipype.workflow INFO:\n",
      "\t [Node] Executing \"selectfiles\" <nipype.interfaces.io.SelectFiles>\n",
      "220618-08:55:01,369 nipype.workflow INFO:\n",
      "\t [Node] Finished \"contrasts\", elapsed time 0.003024s.\n",
      "220618-08:55:01,371 nipype.workflow INFO:\n",
      "\t [Node] Finished \"selectfiles\", elapsed time 0.006049s.\n",
      "220618-08:55:01,366 nipype.workflow INFO:\n",
      "\t [Node] Executing \"contrasts\" <nipype.interfaces.utility.wrappers.Function>\n",
      "220618-08:55:01,369 nipype.workflow INFO:\n",
      "\t [Node] Finished \"selectfiles\", elapsed time 0.004066s.\n",
      "220618-08:55:01,397 nipype.workflow INFO:\n",
      "\t [Node] Finished \"contrasts\", elapsed time 0.006042s.\n",
      "220618-08:55:03,116 nipype.workflow INFO:\n",
      "\t [Job 4] Completed (l1_analysis.selectfiles).\n",
      "220618-08:55:03,134 nipype.workflow INFO:\n",
      "\t [Job 5] Completed (l1_analysis.contrasts).\n",
      "220618-08:55:03,146 nipype.workflow INFO:\n",
      "\t [Job 6] Completed (l1_analysis.selectfiles).\n",
      "220618-08:55:03,160 nipype.workflow INFO:\n",
      "\t [Job 7] Completed (l1_analysis.contrasts).\n",
      "220618-08:55:03,173 nipype.workflow INFO:\n",
      "\t [MultiProc] Running 0 tasks, and 8 jobs ready. Free memory (GB): 6.99/6.99, Free processors: 4/4.\n",
      "220618-08:55:03,254 nipype.workflow INFO:\n",
      "\t [Node] Setting-up \"l1_analysis.get_subject_infos\" in \"/home/narps_open_pipelines/data/derived/reproduced/NARPS-4TQ6-reproduced/intermediate_results/l1_analysis/_run_id_01_subject_id_001/get_subject_infos\".\n",
      "220618-08:55:03,259 nipype.workflow INFO:\n",
      "\t [Node] Setting-up \"l1_analysis.skullstrip\" in \"/home/narps_open_pipelines/data/derived/reproduced/NARPS-4TQ6-reproduced/intermediate_results/l1_analysis/_run_id_01_subject_id_001/skullstrip\".\n",
      "220618-08:55:03,272 nipype.workflow INFO:\n",
      "\t [Node] Setting-up \"l1_analysis.get_subject_infos\" in \"/home/narps_open_pipelines/data/derived/reproduced/NARPS-4TQ6-reproduced/intermediate_results/l1_analysis/_run_id_02_subject_id_001/get_subject_infos\".\n",
      "220618-08:55:03,284 nipype.workflow INFO:\n",
      "\t [Node] Setting-up \"l1_analysis.skullstrip\" in \"/home/narps_open_pipelines/data/derived/reproduced/NARPS-4TQ6-reproduced/intermediate_results/l1_analysis/_run_id_02_subject_id_001/skullstrip\".\n",
      "220618-08:55:03,328 nipype.workflow INFO:\n",
      "\t [Node] Executing \"get_subject_infos\" <nipype.interfaces.utility.wrappers.Function>\n",
      "220618-08:55:03,351 nipype.workflow INFO:\n",
      "\t [Node] Executing \"get_subject_infos\" <nipype.interfaces.utility.wrappers.Function>\n",
      "220618-08:55:03,354 nipype.workflow INFO:\n",
      "\t [Node] Executing \"skullstrip\" <nipype.interfaces.fsl.preprocess.BET>\n",
      "220618-08:55:03,368 nipype.workflow INFO:\n",
      "\t [Node] Executing \"skullstrip\" <nipype.interfaces.fsl.preprocess.BET>\n",
      "220618-08:55:03,390 nipype.workflow INFO:\n",
      "\t [Node] Finished \"get_subject_infos\", elapsed time 0.053619s.\n",
      "220618-08:55:03,420 nipype.workflow INFO:\n",
      "\t [Node] Finished \"get_subject_infos\", elapsed time 0.059706s.\n",
      "220618-08:55:05,107 nipype.workflow INFO:\n",
      "\t [Job 8] Completed (l1_analysis.get_subject_infos).\n",
      "220618-08:55:05,113 nipype.workflow INFO:\n",
      "\t [Job 10] Completed (l1_analysis.get_subject_infos).\n",
      "220618-08:55:05,124 nipype.workflow INFO:\n",
      "\t [MultiProc] Running 2 tasks, and 4 jobs ready. Free memory (GB): 6.59/6.99, Free processors: 2/4.\n",
      "                     Currently running:\n",
      "                       * l1_analysis.skullstrip\n",
      "                       * l1_analysis.skullstrip\n",
      "220618-08:55:05,213 nipype.workflow INFO:\n",
      "\t [Node] Setting-up \"l1_analysis.get_subject_infos\" in \"/home/narps_open_pipelines/data/derived/reproduced/NARPS-4TQ6-reproduced/intermediate_results/l1_analysis/_run_id_03_subject_id_001/get_subject_infos\".\n",
      "220618-08:55:05,223 nipype.workflow INFO:\n",
      "\t [Node] Setting-up \"l1_analysis.skullstrip\" in \"/home/narps_open_pipelines/data/derived/reproduced/NARPS-4TQ6-reproduced/intermediate_results/l1_analysis/_run_id_03_subject_id_001/skullstrip\".\n",
      "220618-08:55:05,280 nipype.workflow INFO:\n",
      "\t [Node] Executing \"get_subject_infos\" <nipype.interfaces.utility.wrappers.Function>\n",
      "220618-08:55:05,306 nipype.workflow INFO:\n",
      "\t [Node] Finished \"get_subject_infos\", elapsed time 0.012173s.\n",
      "220618-08:55:05,339 nipype.workflow INFO:\n",
      "\t [Node] Executing \"skullstrip\" <nipype.interfaces.fsl.preprocess.BET>\n",
      "220618-08:55:07,111 nipype.workflow INFO:\n",
      "\t [Job 12] Completed (l1_analysis.get_subject_infos).\n",
      "220618-08:55:07,129 nipype.workflow INFO:\n",
      "\t [MultiProc] Running 3 tasks, and 2 jobs ready. Free memory (GB): 6.39/6.99, Free processors: 1/4.\n",
      "                     Currently running:\n",
      "                       * l1_analysis.skullstrip\n",
      "                       * l1_analysis.skullstrip\n",
      "                       * l1_analysis.skullstrip\n"
     ]
    },
    {
     "name": "stdout",
     "output_type": "stream",
     "text": [
      "220618-08:55:07,224 nipype.workflow INFO:\n",
      "\t [Node] Setting-up \"l1_analysis.get_subject_infos\" in \"/home/narps_open_pipelines/data/derived/reproduced/NARPS-4TQ6-reproduced/intermediate_results/l1_analysis/_run_id_04_subject_id_001/get_subject_infos\".\n",
      "220618-08:55:07,287 nipype.workflow INFO:\n",
      "\t [Node] Executing \"get_subject_infos\" <nipype.interfaces.utility.wrappers.Function>\n",
      "220618-08:55:07,368 nipype.workflow INFO:\n",
      "\t [Node] Finished \"get_subject_infos\", elapsed time 0.042937s.\n",
      "220618-08:55:09,112 nipype.workflow INFO:\n",
      "\t [Job 14] Completed (l1_analysis.get_subject_infos).\n",
      "220618-08:55:09,126 nipype.workflow INFO:\n",
      "\t [MultiProc] Running 3 tasks, and 1 jobs ready. Free memory (GB): 6.39/6.99, Free processors: 1/4.\n",
      "                     Currently running:\n",
      "                       * l1_analysis.skullstrip\n",
      "                       * l1_analysis.skullstrip\n",
      "                       * l1_analysis.skullstrip\n",
      "220618-08:55:09,228 nipype.workflow INFO:\n",
      "\t [Node] Setting-up \"l1_analysis.skullstrip\" in \"/home/narps_open_pipelines/data/derived/reproduced/NARPS-4TQ6-reproduced/intermediate_results/l1_analysis/_run_id_04_subject_id_001/skullstrip\".\n",
      "220618-08:55:09,552 nipype.workflow INFO:\n",
      "\t [Node] Executing \"skullstrip\" <nipype.interfaces.fsl.preprocess.BET>\n",
      "220618-08:55:11,116 nipype.workflow INFO:\n",
      "\t [MultiProc] Running 4 tasks, and 0 jobs ready. Free memory (GB): 6.19/6.99, Free processors: 0/4.\n",
      "                     Currently running:\n",
      "                       * l1_analysis.skullstrip\n",
      "                       * l1_analysis.skullstrip\n",
      "                       * l1_analysis.skullstrip\n",
      "                       * l1_analysis.skullstrip\n",
      "220618-08:58:08,36 nipype.workflow INFO:\n",
      "\t [Node] Finished \"skullstrip\", elapsed time 184.60431s.\n",
      "220618-08:58:08,32 nipype.workflow INFO:\n",
      "\t [Node] Finished \"skullstrip\", elapsed time 184.615444s.\n",
      "220618-08:58:08,54 nipype.workflow WARNING:\n",
      "\t Storing result file without outputs\n",
      "220618-08:58:08,59 nipype.workflow WARNING:\n",
      "\t Storing result file without outputs\n",
      "220618-08:58:08,83 nipype.workflow WARNING:\n",
      "\t [Node] Error on \"l1_analysis.skullstrip\" (/home/narps_open_pipelines/data/derived/reproduced/NARPS-4TQ6-reproduced/intermediate_results/l1_analysis/_run_id_02_subject_id_001/skullstrip)\n",
      "220618-08:58:08,81 nipype.workflow WARNING:\n",
      "\t [Node] Error on \"l1_analysis.skullstrip\" (/home/narps_open_pipelines/data/derived/reproduced/NARPS-4TQ6-reproduced/intermediate_results/l1_analysis/_run_id_01_subject_id_001/skullstrip)\n",
      "220618-08:58:08,229 nipype.workflow INFO:\n",
      "\t [Node] Finished \"skullstrip\", elapsed time 178.654228s.\n",
      "220618-08:58:08,229 nipype.workflow INFO:\n",
      "\t [Node] Finished \"skullstrip\", elapsed time 182.854308s.\n",
      "220618-08:58:08,235 nipype.workflow WARNING:\n",
      "\t Storing result file without outputs\n",
      "220618-08:58:08,236 nipype.workflow WARNING:\n",
      "\t Storing result file without outputs\n",
      "220618-08:58:08,248 nipype.workflow WARNING:\n",
      "\t [Node] Error on \"l1_analysis.skullstrip\" (/home/narps_open_pipelines/data/derived/reproduced/NARPS-4TQ6-reproduced/intermediate_results/l1_analysis/_run_id_03_subject_id_001/skullstrip)\n",
      "220618-08:58:08,248 nipype.workflow WARNING:\n",
      "\t [Node] Error on \"l1_analysis.skullstrip\" (/home/narps_open_pipelines/data/derived/reproduced/NARPS-4TQ6-reproduced/intermediate_results/l1_analysis/_run_id_04_subject_id_001/skullstrip)\n"
     ]
    },
    {
     "ename": "KeyboardInterrupt",
     "evalue": "",
     "output_type": "error",
     "traceback": [
      "\u001b[0;31m---------------------------------------------------------------------------\u001b[0m",
      "\u001b[0;31mKeyboardInterrupt\u001b[0m                         Traceback (most recent call last)",
      "Input \u001b[0;32mIn [10]\u001b[0m, in \u001b[0;36m<cell line: 1>\u001b[0;34m()\u001b[0m\n\u001b[0;32m----> 1\u001b[0m \u001b[43ml1_analysis\u001b[49m\u001b[38;5;241;43m.\u001b[39;49m\u001b[43mrun\u001b[49m\u001b[43m(\u001b[49m\u001b[38;5;124;43m'\u001b[39;49m\u001b[38;5;124;43mMultiProc\u001b[39;49m\u001b[38;5;124;43m'\u001b[39;49m\u001b[43m,\u001b[49m\u001b[43m \u001b[49m\u001b[43mplugin_args\u001b[49m\u001b[38;5;241;43m=\u001b[39;49m\u001b[43m{\u001b[49m\u001b[38;5;124;43m'\u001b[39;49m\u001b[38;5;124;43mn_procs\u001b[39;49m\u001b[38;5;124;43m'\u001b[39;49m\u001b[43m:\u001b[49m\u001b[43m \u001b[49m\u001b[38;5;241;43m4\u001b[39;49m\u001b[43m}\u001b[49m\u001b[43m)\u001b[49m\n",
      "File \u001b[0;32m/opt/miniconda-latest/envs/neuro/lib/python3.8/site-packages/nipype/pipeline/engine/workflows.py:638\u001b[0m, in \u001b[0;36mWorkflow.run\u001b[0;34m(self, plugin, plugin_args, updatehash)\u001b[0m\n\u001b[1;32m    636\u001b[0m \u001b[38;5;28;01mif\u001b[39;00m str2bool(\u001b[38;5;28mself\u001b[39m\u001b[38;5;241m.\u001b[39mconfig[\u001b[38;5;124m\"\u001b[39m\u001b[38;5;124mexecution\u001b[39m\u001b[38;5;124m\"\u001b[39m][\u001b[38;5;124m\"\u001b[39m\u001b[38;5;124mcreate_report\u001b[39m\u001b[38;5;124m\"\u001b[39m]):\n\u001b[1;32m    637\u001b[0m     \u001b[38;5;28mself\u001b[39m\u001b[38;5;241m.\u001b[39m_write_report_info(\u001b[38;5;28mself\u001b[39m\u001b[38;5;241m.\u001b[39mbase_dir, \u001b[38;5;28mself\u001b[39m\u001b[38;5;241m.\u001b[39mname, execgraph)\n\u001b[0;32m--> 638\u001b[0m \u001b[43mrunner\u001b[49m\u001b[38;5;241;43m.\u001b[39;49m\u001b[43mrun\u001b[49m\u001b[43m(\u001b[49m\u001b[43mexecgraph\u001b[49m\u001b[43m,\u001b[49m\u001b[43m \u001b[49m\u001b[43mupdatehash\u001b[49m\u001b[38;5;241;43m=\u001b[39;49m\u001b[43mupdatehash\u001b[49m\u001b[43m,\u001b[49m\u001b[43m \u001b[49m\u001b[43mconfig\u001b[49m\u001b[38;5;241;43m=\u001b[39;49m\u001b[38;5;28;43mself\u001b[39;49m\u001b[38;5;241;43m.\u001b[39;49m\u001b[43mconfig\u001b[49m\u001b[43m)\u001b[49m\n\u001b[1;32m    639\u001b[0m datestr \u001b[38;5;241m=\u001b[39m datetime\u001b[38;5;241m.\u001b[39mutcnow()\u001b[38;5;241m.\u001b[39mstrftime(\u001b[38;5;124m\"\u001b[39m\u001b[38;5;124m%\u001b[39m\u001b[38;5;124mY\u001b[39m\u001b[38;5;124m%\u001b[39m\u001b[38;5;124mm\u001b[39m\u001b[38;5;132;01m%d\u001b[39;00m\u001b[38;5;124mT\u001b[39m\u001b[38;5;124m%\u001b[39m\u001b[38;5;124mH\u001b[39m\u001b[38;5;124m%\u001b[39m\u001b[38;5;124mM\u001b[39m\u001b[38;5;124m%\u001b[39m\u001b[38;5;124mS\u001b[39m\u001b[38;5;124m\"\u001b[39m)\n\u001b[1;32m    640\u001b[0m \u001b[38;5;28;01mif\u001b[39;00m str2bool(\u001b[38;5;28mself\u001b[39m\u001b[38;5;241m.\u001b[39mconfig[\u001b[38;5;124m\"\u001b[39m\u001b[38;5;124mexecution\u001b[39m\u001b[38;5;124m\"\u001b[39m][\u001b[38;5;124m\"\u001b[39m\u001b[38;5;124mwrite_provenance\u001b[39m\u001b[38;5;124m\"\u001b[39m]):\n",
      "File \u001b[0;32m/opt/miniconda-latest/envs/neuro/lib/python3.8/site-packages/nipype/pipeline/plugins/base.py:192\u001b[0m, in \u001b[0;36mDistributedPluginBase.run\u001b[0;34m(self, graph, config, updatehash)\u001b[0m\n\u001b[1;32m    189\u001b[0m         logger\u001b[38;5;241m.\u001b[39mdebug(\u001b[38;5;124m\"\u001b[39m\u001b[38;5;124mNot submitting (max jobs reached)\u001b[39m\u001b[38;5;124m\"\u001b[39m)\n\u001b[1;32m    191\u001b[0m     sleep_til \u001b[38;5;241m=\u001b[39m loop_start \u001b[38;5;241m+\u001b[39m poll_sleep_secs\n\u001b[0;32m--> 192\u001b[0m     \u001b[43msleep\u001b[49m\u001b[43m(\u001b[49m\u001b[38;5;28;43mmax\u001b[39;49m\u001b[43m(\u001b[49m\u001b[38;5;241;43m0\u001b[39;49m\u001b[43m,\u001b[49m\u001b[43m \u001b[49m\u001b[43msleep_til\u001b[49m\u001b[43m \u001b[49m\u001b[38;5;241;43m-\u001b[39;49m\u001b[43m \u001b[49m\u001b[43mtime\u001b[49m\u001b[43m(\u001b[49m\u001b[43m)\u001b[49m\u001b[43m)\u001b[49m\u001b[43m)\u001b[49m\n\u001b[1;32m    194\u001b[0m \u001b[38;5;28mself\u001b[39m\u001b[38;5;241m.\u001b[39m_remove_node_dirs()\n\u001b[1;32m    195\u001b[0m report_nodes_not_run(notrun)\n",
      "\u001b[0;31mKeyboardInterrupt\u001b[0m: "
     ]
    }
   ],
   "source": [
    "l1_analysis.run('MultiProc', plugin_args={'n_procs': 4})"
   ]
  },
  {
   "cell_type": "markdown",
   "id": "2cbe5d76",
   "metadata": {},
   "source": [
    "## Single subject - Between run analysis"
   ]
  },
  {
   "cell_type": "code",
   "execution_count": null,
   "id": "9522af1e",
   "metadata": {},
   "outputs": [],
   "source": [
    "contrast_list = ['1', '2']\n",
    "l2_analysis = team_4TQ6_wip.get_l2_analysis(subject_list, contrast_list, run_list, exp_dir, \n",
    "                                             output_dir, working_dir, result_dir, data_dir)"
   ]
  },
  {
   "cell_type": "code",
   "execution_count": null,
   "id": "a772b047",
   "metadata": {
    "scrolled": true
   },
   "outputs": [],
   "source": [
    "l2_analysis.run('MultiProc', plugin_args={'n_procs': 4})"
   ]
  },
  {
   "cell_type": "markdown",
   "id": "macro-progress",
   "metadata": {},
   "source": [
    "## Third level analysis - Group level "
   ]
  },
  {
   "cell_type": "code",
   "execution_count": null,
   "id": "human-sentence",
   "metadata": {},
   "outputs": [],
   "source": [
    "l3_analysis_equalRange = team_4TQ6_wip.get_group_workflow(subject_list, n_sub, contrast_list, 'equalRange', exp_dir, output_dir, \n",
    "                       working_dir, result_dir, data_dir)\n",
    "\n",
    "l3_analysis_equalIndiff = team_4TQ6_wip.get_group_workflow(subject_list, n_sub, contrast_list, 'equalIndifference', \n",
    "                       exp_dir, output_dir, \n",
    "                       working_dir, result_dir, data_dir)\n",
    "\n",
    "l3_analysis_groupComp = team_4TQ6_wip.get_group_workflow(subject_list, n_sub, contrast_list, \"groupComp\", exp_dir, \n",
    "                                                         output_dir, working_dir, result_dir, data_dir)"
   ]
  },
  {
   "cell_type": "code",
   "execution_count": null,
   "id": "14662313",
   "metadata": {},
   "outputs": [],
   "source": [
    "l3_analysis_equalRange.run()"
   ]
  },
  {
   "cell_type": "code",
   "execution_count": null,
   "id": "unlimited-suggestion",
   "metadata": {},
   "outputs": [],
   "source": [
    "l3_analysis_equalIndiff.run()"
   ]
  },
  {
   "cell_type": "code",
   "execution_count": null,
   "id": "2fb1405b",
   "metadata": {
    "scrolled": true
   },
   "outputs": [],
   "source": [
    "l3_analysis_groupComp.run('MultiProc', plugin_args={'n_procs': 4})"
   ]
  },
  {
   "cell_type": "code",
   "execution_count": null,
   "id": "2f5ce03f",
   "metadata": {},
   "outputs": [],
   "source": [
    "team_4TQ6_wip.reorganize_results(result_dir, output_dir, n_sub, team_ID)"
   ]
  }
 ],
 "metadata": {
  "kernelspec": {
   "display_name": "Python 3 (ipykernel)",
   "language": "python",
   "name": "python3"
  },
  "language_info": {
   "codemirror_mode": {
    "name": "ipython",
    "version": 3
   },
   "file_extension": ".py",
   "mimetype": "text/x-python",
   "name": "python",
   "nbconvert_exporter": "python",
   "pygments_lexer": "ipython3",
   "version": "3.10.9"
  }
 },
 "nbformat": 4,
 "nbformat_minor": 5
}
