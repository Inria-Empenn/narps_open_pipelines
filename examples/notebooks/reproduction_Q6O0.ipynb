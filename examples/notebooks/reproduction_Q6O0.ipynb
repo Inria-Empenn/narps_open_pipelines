{
 "cells": [
  {
   "cell_type": "markdown",
   "id": "e8ed6209",
   "metadata": {},
   "source": [
    "# FMRI DATA ANALYSIS - NARPS DATASET BY TEAM Q6O0\n",
    "\n",
    "This notebook reproduce the analysis made by team **Q6O0** for the NARPS experiment (Botvinik-Nezer & al, 2020). \n",
    "\n",
    "**To use this notebook :** \n",
    "- Download fMRIprep data available [**here**](https://openneuro.org/datasets/ds001734/versions/1.0.4) or in [**datalad**](http://datasets.datalad.org/?dir=/workshops/nih-2017/ds001734).\n",
    "- Modify the paths:\n",
    "    - **exp_dir**: directory where the ds001734-download repository is stored\n",
    "    - **result_dir**: directory where the intermediate and final repositories will be stored\n",
    "    - **working_dir**: name of the directory where intermediate results will be stored\n",
    "    - **output_dir**: name of the directory where final results will be stored\n",
    "\n",
    "Botvinik-Nezer, R., Holzmeister, F., Camerer, C.F., Dreber, A., Huber, J., Johannesson, M., Kirchler, M., Iwanir, R., Mumford, J.A., ..., Nichols, T.E., Poldrack, R.A., Schonberg, T. (2020). Variability in the analysis of a single neuroimaging dataset by many teams. Nature. https://doi.org/10.1038/s41586-020-2314-9."
   ]
  },
  {
   "cell_type": "code",
   "execution_count": null,
   "id": "1ff14594",
   "metadata": {},
   "outputs": [],
   "source": [
    "# Set the path to matlab \n",
    "## NECESSARY TO USE SPM\n",
    "from nipype.interfaces import spm\n",
    "matlab_cmd = '/opt/spm12-r7771/run_spm12.sh /opt/matlabmcr-2010a/v713/ script'\n",
    "spm.SPMCommand.set_mlab_paths(matlab_cmd=matlab_cmd, use_mcr=True)"
   ]
  },
  {
   "cell_type": "code",
   "execution_count": null,
   "id": "d564f81d",
   "metadata": {},
   "outputs": [],
   "source": [
    "from narps_open.pipelines import team_Q6O0\n",
    "\n",
    "from os.path import join as opj\n",
    "import os\n",
    "import json"
   ]
  },
  {
   "cell_type": "code",
   "execution_count": null,
   "id": "8d724db5",
   "metadata": {},
   "outputs": [],
   "source": [
    "team_ID = \"Q6O0\"\n",
    "# Important directories\n",
    "## exp_dir : where the data are stored\n",
    "exp_dir = '../data/original'\n",
    "\n",
    "## result_dir : where the intermediate and final results will be store\n",
    "result_dir = \"../data/derived/reproduced\"\n",
    "\n",
    "## working_dir : where the intermediate outputs will be store\n",
    "working_dir = f\"NARPS-{team_ID}-reproduced/intermediate_results\"\n",
    "\n",
    "## output_dir : where the final results will be store\n",
    "output_dir = f\"NARPS-{team_ID}-reproduced\""
   ]
  },
  {
   "cell_type": "code",
   "execution_count": null,
   "id": "532ea783",
   "metadata": {},
   "outputs": [],
   "source": [
    "# Subject list (to which we will do the analysis)\n",
    "dir_list = os.listdir(exp_dir)\n",
    "\n",
    "# Subject list (to which we will do the analysis)\n",
    "subject_list = []\n",
    "for dirs in dir_list:\n",
    "    if dirs[0:3] == 'sub':\n",
    "        subject_list.append(dirs[-3:])\n",
    "# Run to use for this analysis\n",
    "run_list = ['01', '02', '03', '04']\n",
    "\n",
    "n_sub = len(subject_list)\n",
    "\n",
    "#TR\n",
    "with open(opj(exp_dir,'task-MGT_bold.json'), 'rt') as fp:\n",
    "    task_info = json.load(fp)\n",
    "TR = task_info['RepetitionTime']\n",
    "\n",
    "#FWHM to smooth (team chose a kernel of 8mm for smoothing)\n",
    "fwhm = 8"
   ]
  },
  {
   "cell_type": "markdown",
   "id": "861e6521",
   "metadata": {},
   "source": [
    "## Subject level analysis"
   ]
  },
  {
   "cell_type": "code",
   "execution_count": null,
   "id": "36ab8b79",
   "metadata": {},
   "outputs": [],
   "source": [
    "l1_analysis = team_Q6O0.get_l1_analysis(subject_list, TR, fwhm, run_list, \n",
    "                                             exp_dir, result_dir, working_dir, output_dir)"
   ]
  },
  {
   "cell_type": "code",
   "execution_count": null,
   "id": "6de243b3",
   "metadata": {
    "scrolled": true
   },
   "outputs": [],
   "source": [
    "l1_analysis.run('MultiProc', plugin_args={'n_procs': 2})"
   ]
  },
  {
   "cell_type": "markdown",
   "id": "9c5ea477",
   "metadata": {},
   "source": [
    "## Group level analysis"
   ]
  },
  {
   "cell_type": "code",
   "execution_count": null,
   "id": "e77b8fba",
   "metadata": {},
   "outputs": [],
   "source": [
    "model_list = ['gain', 'loss']\n",
    "method = \"equalRange\"\n",
    "\n",
    "l2_analysis = team_Q6O0.get_l2_analysis(subject_list, n_sub, model_list, method, \n",
    "                                             exp_dir, result_dir, working_dir, output_dir)"
   ]
  },
  {
   "cell_type": "code",
   "execution_count": null,
   "id": "335d4b51",
   "metadata": {},
   "outputs": [],
   "source": [
    "l2_analysis.run('MultiProc', plugin_args={'n_procs': 2})"
   ]
  },
  {
   "cell_type": "code",
   "execution_count": null,
   "id": "26b9a551",
   "metadata": {},
   "outputs": [],
   "source": [
    "model_list = ['gain', 'loss']\n",
    "method = \"equalIndifference\"\n",
    "\n",
    "l2_analysis_equalIndifference = team_Q6O0.get_l2_analysis(subject_list, n_sub, model_list, \"equalIndifference\", exp_dir, \n",
    "                                             result_dir, working_dir, output_dir)"
   ]
  },
  {
   "cell_type": "code",
   "execution_count": null,
   "id": "1c91e675",
   "metadata": {},
   "outputs": [],
   "source": [
    "l2_analysis_equalIndifference.run('MultiProc', plugin_args={'n_procs': 2})"
   ]
  },
  {
   "cell_type": "code",
   "execution_count": null,
   "id": "30132c27",
   "metadata": {},
   "outputs": [],
   "source": [
    "model_list = ['loss']\n",
    "method = \"groupComp\"\n",
    "\n",
    "l2_analysis_groupComp = team_Q6O0.get_l2_analysis(subject_list, n_sub, model_list, method, exp_dir, \n",
    "                                             result_dir, working_dir, output_dir)"
   ]
  },
  {
   "cell_type": "code",
   "execution_count": null,
   "id": "bb7338a0",
   "metadata": {
    "scrolled": true
   },
   "outputs": [],
   "source": [
    "l2_analysis_groupComp.run('MultiProc', plugin_args={'n_procs': 2})"
   ]
  },
  {
   "cell_type": "code",
   "execution_count": null,
   "id": "5dd2c191",
   "metadata": {},
   "outputs": [],
   "source": [
    "team_Q6O0.reorganize_results(result_dir, output_dir, n_sub, team_ID)"
   ]
  }
 ],
 "metadata": {
  "kernelspec": {
   "display_name": "Python 3 (ipykernel)",
   "language": "python",
   "name": "python3"
  },
  "language_info": {
   "codemirror_mode": {
    "name": "ipython",
    "version": 3
   },
   "file_extension": ".py",
   "mimetype": "text/x-python",
   "name": "python",
   "nbconvert_exporter": "python",
   "pygments_lexer": "ipython3",
   "version": "3.10.9"
  }
 },
 "nbformat": 4,
 "nbformat_minor": 5
}
