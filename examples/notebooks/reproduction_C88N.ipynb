{
 "cells": [
  {
   "cell_type": "markdown",
   "id": "included-fellowship",
   "metadata": {},
   "source": [
    "# FMRI DATA ANALYSIS - NARPS DATASET BY TEAM C88N"
   ]
  },
  {
   "cell_type": "markdown",
   "id": "charitable-cheat",
   "metadata": {},
   "source": [
    "This notebook reproduce the analysis made by team **C88N** for the NARPS experiment (Botvinik-Nezer & al, 2020). \n",
    "\n",
    "**To use this notebook :** \n",
    "- Download fMRIprep data available [**here**](https://openneuro.org/datasets/ds001734/versions/1.0.4) or in [**datalad**](http://datasets.datalad.org/?dir=/workshops/nih-2017/ds001734).\n",
    "- Modify the paths:\n",
    "    - **exp_dir**: directory where the ds001734-download repository is stored\n",
    "    - **result_dir**: directory where the intermediate and final repositories will be stored\n",
    "    - **working_dir**: name of the directory where intermediate results will be stored\n",
    "    - **output_dir**: name of the directory where final results will be stored\n",
    "\n",
    "Botvinik-Nezer, R., Holzmeister, F., Camerer, C.F., Dreber, A., Huber, J., Johannesson, M., Kirchler, M., Iwanir, R., Mumford, J.A., ..., Nichols, T.E., Poldrack, R.A., Schonberg, T. (2020). Variability in the analysis of a single neuroimaging dataset by many teams. Nature. https://doi.org/10.1038/s41586-020-2314-9."
   ]
  },
  {
   "cell_type": "code",
   "execution_count": null,
   "id": "raised-might",
   "metadata": {},
   "outputs": [],
   "source": [
    "# Set the path to matlab \n",
    "## NECESSARY TO USE SPM\n",
    "from nipype.interfaces import spm\n",
    "matlab_cmd = '/opt/spm12-r7771/run_spm12.sh /opt/matlabmcr-2010a/v713/ script'\n",
    "spm.SPMCommand.set_mlab_paths(matlab_cmd=matlab_cmd, use_mcr=True)"
   ]
  },
  {
   "cell_type": "code",
   "execution_count": null,
   "id": "lesser-revelation",
   "metadata": {},
   "outputs": [],
   "source": [
    "from narps_open.pipelines import team_C88N\n",
    "import os\n",
    "from os.path import join as opj\n",
    "import json"
   ]
  },
  {
   "cell_type": "code",
   "execution_count": null,
   "id": "applicable-warrior",
   "metadata": {},
   "outputs": [],
   "source": [
    "team_ID = \"C88N\"\n",
    "# Important directories\n",
    "## exp_dir : where the data are stored\n",
    "exp_dir = '../data/original'\n",
    "\n",
    "## result_dir : where the intermediate and final results will be store\n",
    "result_dir = \"../data/derived/reproduced\"\n",
    "\n",
    "## working_dir : where the intermediate outputs will be store\n",
    "working_dir = f\"NARPS-{team_ID}-reproduced/intermediate_results\"\n",
    "\n",
    "## output_dir : where the final results will be store\n",
    "output_dir = f\"NARPS-{team_ID}-reproduced\""
   ]
  },
  {
   "cell_type": "code",
   "execution_count": null,
   "id": "exotic-operator",
   "metadata": {},
   "outputs": [],
   "source": [
    "# Subject list (to which we will do the analysis)\n",
    "dir_list = os.listdir(exp_dir)\n",
    "\n",
    "# Subject list (to which we will do the analysis)\n",
    "subject_list = []\n",
    "for dirs in dir_list:\n",
    "    if dirs[0:3] == 'sub':\n",
    "        subject_list.append(dirs[-3:])\n",
    "\n",
    "n_sub = len(subject_list)\n",
    "\n",
    "# Run to use for this analysis\n",
    "run_list = ['01', '02', '03', '04']\n",
    "\n",
    "#TR\n",
    "with open(opj(exp_dir, 'task-MGT_bold.json'), 'rt') as fp:\n",
    "    task_info = json.load(fp)\n",
    "TR = task_info['RepetitionTime']\n",
    "\n",
    "#FWHM to smooth (team chose a kernel of 8mm for smoothing)\n",
    "fwhm = 8"
   ]
  },
  {
   "cell_type": "markdown",
   "id": "micro-kuwait",
   "metadata": {},
   "source": [
    "## Subject level analysis"
   ]
  },
  {
   "cell_type": "code",
   "execution_count": null,
   "id": "premium-dispute",
   "metadata": {},
   "outputs": [],
   "source": [
    "l1_analysis = team_C88N.get_l1_analysis(subject_list, TR, \n",
    "                                             fwhm, run_list, exp_dir, result_dir, working_dir, output_dir)"
   ]
  },
  {
   "cell_type": "code",
   "execution_count": null,
   "id": "textile-steps",
   "metadata": {
    "scrolled": true
   },
   "outputs": [],
   "source": [
    "l1_analysis.run('MultiProc', plugin_args={'n_procs': 2})"
   ]
  },
  {
   "cell_type": "markdown",
   "id": "prostate-maldives",
   "metadata": {},
   "source": [
    "## Group level analysis"
   ]
  },
  {
   "cell_type": "code",
   "execution_count": null,
   "id": "objective-agency",
   "metadata": {},
   "outputs": [],
   "source": [
    "model_list = [\"gain\", \"loss\"]\n",
    "contrast_list = [\"1\"]\n",
    "\n",
    "l2_analysis_equalRange = team_C88N.get_l2_analysis(subject_list, n_sub, model_list, contrast_list, \n",
    "                                                        \"equalRange\", exp_dir, result_dir, working_dir, output_dir)\n",
    "\n",
    "l2_analysis_equalIndiff = team_C88N.get_l2_analysis(subject_list, n_sub, model_list, contrast_list, \n",
    "                                                         \"equalIndifference\", exp_dir, result_dir, working_dir, \n",
    "                                                         output_dir)\n",
    "\n",
    "model_list = [\"loss\"]\n",
    "contrast_list = [\"1\"]\n",
    "\n",
    "l2_analysis_groupComp = team_C88N.get_l2_analysis(subject_list, n_sub, model_list, contrast_list, \n",
    "                                                       \"groupComp\", exp_dir, result_dir, working_dir, output_dir)"
   ]
  },
  {
   "cell_type": "code",
   "execution_count": null,
   "id": "reverse-public",
   "metadata": {},
   "outputs": [],
   "source": [
    "l2_analysis_equalRange.run('MultiProc', plugin_args={'n_procs': 2})"
   ]
  },
  {
   "cell_type": "code",
   "execution_count": null,
   "id": "fantastic-audio",
   "metadata": {
    "scrolled": true
   },
   "outputs": [],
   "source": [
    "l2_analysis_equalIndiff.run('MultiProc', plugin_args={'n_procs': 2})"
   ]
  },
  {
   "cell_type": "code",
   "execution_count": null,
   "id": "labeled-prior",
   "metadata": {
    "scrolled": true
   },
   "outputs": [],
   "source": [
    "l2_analysis_groupComp.run('MultiProc', plugin_args={'n_procs': 2})"
   ]
  },
  {
   "cell_type": "code",
   "execution_count": null,
   "id": "f09c70eb",
   "metadata": {},
   "outputs": [],
   "source": [
    "model_list = [\"loss\"]\n",
    "contrast_list = [\"2\"]\n",
    "\n",
    "l2_analysis_equalRange = team_C88N.get_l2_analysis(subject_list, n_sub, model_list, contrast_list, \n",
    "                                                        \"equalRange\", exp_dir, result_dir, working_dir, output_dir)\n",
    "\n",
    "l2_analysis_equalIndiff = team_C88N.get_l2_analysis(subject_list, n_sub, model_list, contrast_list, \n",
    "                                                         \"equalIndifference\", exp_dir, result_dir, working_dir, \n",
    "                                                         output_dir)"
   ]
  },
  {
   "cell_type": "code",
   "execution_count": null,
   "id": "9d3e4721",
   "metadata": {},
   "outputs": [],
   "source": [
    "l2_analysis_equalRange.run('MultiProc', plugin_args={'n_procs': 2})"
   ]
  },
  {
   "cell_type": "code",
   "execution_count": null,
   "id": "d4a8f4fa",
   "metadata": {},
   "outputs": [],
   "source": [
    "l2_analysis_equalIndiff.run('MultiProc', plugin_args={'n_procs': 2})"
   ]
  },
  {
   "cell_type": "code",
   "execution_count": null,
   "id": "structured-antenna",
   "metadata": {
    "scrolled": true
   },
   "outputs": [],
   "source": [
    "team_C88N.reorganize_results(result_dir, output_dir, n_sub, team_ID)"
   ]
  },
  {
   "cell_type": "code",
   "execution_count": null,
   "id": "053e05e3",
   "metadata": {},
   "outputs": [],
   "source": []
  }
 ],
 "metadata": {
  "kernelspec": {
   "display_name": "Python 3 (ipykernel)",
   "language": "python",
   "name": "python3"
  },
  "language_info": {
   "codemirror_mode": {
    "name": "ipython",
    "version": 3
   },
   "file_extension": ".py",
   "mimetype": "text/x-python",
   "name": "python",
   "nbconvert_exporter": "python",
   "pygments_lexer": "ipython3",
   "version": "3.10.9"
  }
 },
 "nbformat": 4,
 "nbformat_minor": 5
}
